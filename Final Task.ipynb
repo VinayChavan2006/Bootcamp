{
 "cells": [
  {
   "cell_type": "markdown",
   "metadata": {},
   "source": [
    "# Hare Krishna"
   ]
  },
  {
   "cell_type": "markdown",
   "metadata": {},
   "source": [
    "Here's your final assignment for the bootcamp. This covers all the topics discussed in the bootcamp. Hope this helps you recap and retain whatever was taught! All the best!"
   ]
  },
  {
   "cell_type": "markdown",
   "metadata": {},
   "source": [
    "__Open this notebook in an environment where you have installed all four important libraries - numpy, pandas, matplotlib and seaborn.__"
   ]
  },
  {
   "cell_type": "markdown",
   "metadata": {},
   "source": [
    "## Exercise 1 (15 points)\n",
    "\n",
    "Is Python an interpreted or compiled language or both? Explain in few words what is interpreter and compiler.\n",
    "\n",
    "Fill your answer in the below markdown cell."
   ]
  },
  {
   "cell_type": "markdown",
   "metadata": {},
   "source": [
    "Python is an interpreted language.\n",
    "Interpreter and compiler translates code from programming language to the machine level language.\n",
    "A compiler translates the entire code from programming language to machine level language in one go , whereas an interpreter translates the code line by line into the machine level language (that is ones and zeros)."
   ]
  },
  {
   "cell_type": "markdown",
   "metadata": {},
   "source": [
    "## Exercise 2 (40 points)"
   ]
  },
  {
   "cell_type": "markdown",
   "metadata": {},
   "source": [
    "Create a list L consisting of five numbers in order 1,2,3,4,5. Slice the list and store it in a new variable. The new variable should contain 2,3 in order. Modify the new variable such that it now contains 2,0 in order. Print the value of L[2]."
   ]
  },
  {
   "cell_type": "code",
   "execution_count": 5,
   "metadata": {},
   "outputs": [
    {
     "data": {
      "text/plain": [
       "3"
      ]
     },
     "execution_count": 5,
     "metadata": {},
     "output_type": "execute_result"
    }
   ],
   "source": [
    "#Your answer goes here\n",
    "L=[1,2,3,4,5]\n",
    "new_var=L[1:3]\n",
    "new_var=[2,0]\n",
    "L[2]"
   ]
  },
  {
   "cell_type": "markdown",
   "metadata": {},
   "source": [
    "Create a numpy array A containing 1,2,3,4,5. Do this using an appropriate function. Slice and store in a new variable such that it contains 2,3. Modify it to 2,0. Print the value of A[2]."
   ]
  },
  {
   "cell_type": "code",
   "execution_count": 6,
   "metadata": {},
   "outputs": [
    {
     "data": {
      "text/plain": [
       "0"
      ]
     },
     "execution_count": 6,
     "metadata": {},
     "output_type": "execute_result"
    }
   ],
   "source": [
    "#Your answer goes here\n",
    "import numpy as np\n",
    "A=np.array([1,2,3,4,5])\n",
    "new_var=A[1:3]\n",
    "new_var[:]=[2,0]\n",
    "A[2]\n"
   ]
  },
  {
   "cell_type": "markdown",
   "metadata": {},
   "source": [
    "Explain why answers are different in the above two cases."
   ]
  },
  {
   "cell_type": "markdown",
   "metadata": {},
   "source": [
    "The answers to he above cases are different because of the way of slicing.\n",
    "In the first case that is in python list when I create a new variable, the changes are done to the new list and the previous list remains unchanged and therefore the value of L[2] is 3.\n",
    "Whereas in the second case in a numpy array ,when I create a new variable this new variable is a reference to my original Numpy array and Therefore the changes made to the new variable are reflected in our numpy array. Hence the value of A[2] is 0"
   ]
  },
  {
   "cell_type": "code",
   "execution_count": 7,
   "metadata": {},
   "outputs": [
    {
     "data": {
      "text/plain": [
       "3"
      ]
     },
     "execution_count": 7,
     "metadata": {},
     "output_type": "execute_result"
    }
   ],
   "source": [
    "T=(1,2,3,4,5)\n",
    "new_vari=T[1:3]\n",
    "new_vari=(2,0)\n",
    "T[2]\n"
   ]
  },
  {
   "cell_type": "markdown",
   "metadata": {},
   "source": [
    "Can you do the same task using tuples? If yes, what will be the result? If no, give reason."
   ]
  },
  {
   "cell_type": "markdown",
   "metadata": {},
   "source": [
    " Yes, the same task can be performed with the tuples and the result will be 3 as depicted in the above code block.\n",
    " Tuples are immutable, and once created, their elements cannot be changed. The line new_vari = (2, 0) creates a new tuple and assigns it to the variable new_vari, but it doesn't affect the original tuple T.\n",
    "\n",
    "Therefore, when you print the value of T[2], it will still give you the original value from the tuple, which is 3 in this case."
   ]
  },
  {
   "cell_type": "markdown",
   "metadata": {},
   "source": [
    "Can you print a new list 3,2 by L[...]? If yes, what to fill in ...?"
   ]
  },
  {
   "cell_type": "markdown",
   "metadata": {},
   "source": [
    "YES.\n",
    "L=[1,2,3,4,5]\n",
    "new_var=L[2:0:-1]\n",
    "new_var"
   ]
  },
  {
   "cell_type": "markdown",
   "metadata": {},
   "source": [
    "Can you print a new array 3,2 by A[...]? If yes, what to fill in ...?"
   ]
  },
  {
   "cell_type": "markdown",
   "metadata": {},
   "source": [
    "YES.\n",
    "import numpy as np\n",
    "A=np.array([1,2,3,4,5])\n",
    "new_var=A[2:0:-1]\n",
    "new_var"
   ]
  },
  {
   "cell_type": "markdown",
   "metadata": {},
   "source": [
    "What does L*2 give? Try it."
   ]
  },
  {
   "cell_type": "code",
   "execution_count": 8,
   "metadata": {},
   "outputs": [
    {
     "data": {
      "text/plain": [
       "[1, 2, 3, 4, 5, 1, 2, 3, 4, 5]"
      ]
     },
     "execution_count": 8,
     "metadata": {},
     "output_type": "execute_result"
    }
   ],
   "source": [
    "#Your answer goes here\n",
    "L*2"
   ]
  },
  {
   "cell_type": "markdown",
   "metadata": {},
   "source": [
    "Does A*2 give similar result? Try it."
   ]
  },
  {
   "cell_type": "code",
   "execution_count": 9,
   "metadata": {},
   "outputs": [
    {
     "data": {
      "text/plain": [
       "array([ 2,  4,  0,  8, 10])"
      ]
     },
     "execution_count": 9,
     "metadata": {},
     "output_type": "execute_result"
    }
   ],
   "source": [
    "#Your answer goes here\n",
    "A*2"
   ]
  },
  {
   "cell_type": "markdown",
   "metadata": {},
   "source": [
    "Find out how to get a similar result (similar to the result of L) for A."
   ]
  },
  {
   "cell_type": "code",
   "execution_count": 10,
   "metadata": {},
   "outputs": [
    {
     "data": {
      "text/plain": [
       "array([1, 2, 0, 4, 5, 1, 2, 0, 4, 5])"
      ]
     },
     "execution_count": 10,
     "metadata": {},
     "output_type": "execute_result"
    }
   ],
   "source": [
    "#Your answer goes here\n",
    "np.tile(A,2)"
   ]
  },
  {
   "cell_type": "markdown",
   "metadata": {},
   "source": [
    "## Exercise 3 (40 points)"
   ]
  },
  {
   "cell_type": "markdown",
   "metadata": {},
   "source": [
    "__Note__: Download and keep the required .txt files in your current directory, to work easily."
   ]
  },
  {
   "cell_type": "markdown",
   "metadata": {},
   "source": [
    "Write a function which counts number of lines and number of words in a text file. Call the function and get the output for the file 'speech_barack_obama.txt'"
   ]
  },
  {
   "cell_type": "code",
   "execution_count": 11,
   "metadata": {},
   "outputs": [
    {
     "name": "stdout",
     "output_type": "stream",
     "text": [
      "Number of lines: 97\n",
      "Number of words: 2400\n"
     ]
    }
   ],
   "source": [
    "#Your answer goes here\n",
    "def count_lines_and_words(f):\n",
    "    \n",
    "    with open(f, 'r', encoding='utf-8') as file:\n",
    "        text = file.read()\n",
    "        lines = text.split('\\n')\n",
    "        words = text.split()\n",
    "        return len(lines), len(words)\n",
    "   \n",
    "\n",
    "line_count, word_count = count_lines_and_words('speech_barack_obama.txt')\n",
    "\n",
    "print(f\"Number of lines: {line_count}\")\n",
    "print(f\"Number of words: {word_count}\")"
   ]
  },
  {
   "cell_type": "markdown",
   "metadata": {},
   "source": [
    "Write a function that finds the ten most repeated words in a file. Call the function and get the output for the file 'speech_donald_trump.txt'"
   ]
  },
  {
   "cell_type": "code",
   "execution_count": 11,
   "metadata": {},
   "outputs": [
    {
     "name": "stdout",
     "output_type": "stream",
     "text": [
      "Top 10 Most Repeated Words:\n",
      "the\n",
      "and\n",
      "we\n",
      "will\n",
      "of\n",
      "to\n",
      "our\n",
      "is\n",
      "america\n",
      "for\n"
     ]
    }
   ],
   "source": [
    "#Your answer goes here\n",
    "import re\n",
    "\n",
    "def top10_words(file_path):\n",
    "   \n",
    "    with open(file_path, 'r', encoding='utf-8') as file:\n",
    "        text = file.read()\n",
    "\n",
    "    \n",
    "    words = re.findall(r'\\b\\w+\\b', text.lower())\n",
    "    dict = {}\n",
    "    for word in words:\n",
    "        if word in dict:\n",
    "            dict[word] += 1\n",
    "        else:\n",
    "            dict[word] = 1\n",
    "    \n",
    "    sorted_dict = sorted(dict.items(), key=lambda x: x[1], reverse=True)\n",
    "    top_words = sorted_dict[:10]\n",
    "\n",
    "    return top_words\n",
    "\n",
    "result = top10_words('speech_donald_trump.txt')\n",
    "print(\"Top 10 Most Repeated Words:\")\n",
    "for word,count in result:\n",
    "    print(word)\n",
    "\n"
   ]
  },
  {
   "cell_type": "markdown",
   "metadata": {},
   "source": [
    "## Exercise 4 (25 points)"
   ]
  },
  {
   "cell_type": "markdown",
   "metadata": {},
   "source": [
    "Write a program that takes two numbers from the user 'a' and 'b'. Calculate and print the value:\n",
    "\n",
    "$ c = \\frac{a+b}{a-b}$\n",
    "\n",
    "The program should not terminate with an error. Handle the exceptions which might arise, and print appropriate warning message to the user. If no exception arises, it must print 'Haribol'. In all cases, it should always print 'Hare Krishna' at the end. "
   ]
  },
  {
   "cell_type": "code",
   "execution_count": 13,
   "metadata": {},
   "outputs": [
    {
     "name": "stdout",
     "output_type": "stream",
     "text": [
      "ZeroDivisionError: float division by zero\n",
      "Hare Krishna\n"
     ]
    }
   ],
   "source": [
    "#Your answer goes here\n",
    "try:\n",
    "    \n",
    "    a = float(input(\"Enter the value for 'a': \"))\n",
    "    b = float(input(\"Enter the value for 'b': \"))\n",
    "        \n",
    "    \n",
    "    c = (a + b) / (a - b)\n",
    "\n",
    "    # Print the result\n",
    "    print(c)\n",
    "    print('Haribol')\n",
    "\n",
    "except ValueError as v:\n",
    "    print(\"Value Error:\",v)\n",
    "\n",
    "except ZeroDivisionError as z:\n",
    "    print(\"ZeroDivisionError:\",z)\n",
    "\n",
    "except Exception as e:\n",
    "    print(\"Error:\",e)\n",
    "\n",
    "finally:\n",
    "    print(\"Hare Krishna\")\n",
    "\n",
    "\n",
    "\n",
    "\n"
   ]
  },
  {
   "cell_type": "markdown",
   "metadata": {},
   "source": [
    "## Exercise 5 (20 points)"
   ]
  },
  {
   "cell_type": "markdown",
   "metadata": {},
   "source": [
    "Create a __public__ github repository, with a README file. In the README file, write down the main keypoints that you liked from the evening spiritual sessions. Create a branch and upload a .txt file. Write down your experience regarding the overall bootcamp and the suggestions you would like to give. Create a pull request and merge the branch into main. __Do not delete the branch__. Put the link to your respository below. Remember to keep it __public__."
   ]
  },
  {
   "cell_type": "markdown",
   "metadata": {},
   "source": [
    "https://github.com/VinayChavan2006/Bootcamp.git"
   ]
  },
  {
   "cell_type": "markdown",
   "metadata": {},
   "source": [
    "## Exercise 6 (60 points)"
   ]
  },
  {
   "cell_type": "markdown",
   "metadata": {},
   "source": [
    "__Note__: Download and keep the required .csv file in your current directory, to work easily."
   ]
  },
  {
   "cell_type": "markdown",
   "metadata": {},
   "source": [
    "Carry out data analysis on the file 'Fuel Consumption Ratings.csv'. Use a multiple linear regression model (use the train test split technique) and obtain the predictions. Evaluate your model by plotting graph of actual y vs predicted y. Also, print the MAE and RMSE. \n",
    "\n",
    "Dependent variable = 'CO2EMISSIONS'\n",
    "\n",
    "Independent variables = 'ENGINESIZE','CYLINDERS','FUELCONSUMPTION_COMB'\n",
    "\n",
    "Add more code cells below as per your requirement."
   ]
  },
  {
   "cell_type": "code",
   "execution_count": 14,
   "metadata": {},
   "outputs": [
    {
     "data": {
      "image/png": "[encoded data removed]",
      "text/plain": [
       "<Figure size 640x480 with 1 Axes>"
      ]
     },
     "metadata": {},
     "output_type": "display_data"
    },
    {
     "name": "stdout",
     "output_type": "stream",
     "text": [
      "Mean Absolute Error (MAE): 16.72159398351649\n",
      "Root Mean Squared Error (RMSE): 22.646305151499444\n"
     ]
    }
   ],
   "source": [
    "#Your answer goes here\n",
    "import pandas as pd\n",
    "from sklearn.model_selection import train_test_split\n",
    "from sklearn.linear_model import LinearRegression\n",
    "from sklearn import metrics\n",
    "import matplotlib.pyplot as plt\n",
    "\n",
    "data = pd.read_csv('Fuel Consumption Ratings.csv')\n",
    "\n",
    "X = data[['ENGINESIZE', 'CYLINDERS', 'FUELCONSUMPTION_COMB']]\n",
    "y = data['CO2EMISSIONS']\n",
    "\n",
    "X_train, X_test, y_train, y_test = train_test_split(X, y, test_size=0.2, random_state=42)\n",
    "\n",
    "model = LinearRegression()\n",
    "model.fit(X_train, y_train)\n",
    "\n",
    "y_pred = model.predict(X_test)\n",
    "\n",
    "# Plotting the graph of actual y vs predicted y\n",
    "plt.scatter(y_test, y_pred)\n",
    "# plt.plot(y_test, y_pred)\n",
    "plt.xlabel(\"Actual CO2 Emissions\")\n",
    "plt.ylabel(\"Predicted CO2 Emissions\")\n",
    "plt.title(\"Actual vs Predicted CO2 Emissions\")\n",
    "plt.show()\n",
    "\n",
    "# Calculate and print MAE and RMSE\n",
    "mae = metrics.mean_absolute_error(y_test, y_pred)\n",
    "rmse = metrics.mean_squared_error(y_test, y_pred, squared=False)\n",
    "\n",
    "print(f\"Mean Absolute Error (MAE): {mae}\")\n",
    "print(f\"Root Mean Squared Error (RMSE): {rmse}\")\n"
   ]
  }
 ],
 "metadata": {
  "kernelspec": {
   "display_name": "Python 3",
   "language": "python",
   "name": "python3"
  },
  "language_info": {
   "codemirror_mode": {
    "name": "ipython",
    "version": 3
   },
   "file_extension": ".py",
   "mimetype": "text/x-python",
   "name": "python",
   "nbconvert_exporter": "python",
   "pygments_lexer": "ipython3",
   "version": "3.11.4"
  }
 },
 "nbformat": 4,
 "nbformat_minor": 2
}
