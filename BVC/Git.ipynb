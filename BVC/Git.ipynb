{
 "cells": [
  {
   "cell_type": "markdown",
   "metadata": {},
   "source": [
    "# Git\n",
    "\n",
    "Git is a distributed version control system that tracks changes in any set of computer files, usually used for coordinating work among programmers who are collaboratively developing source code during software development."
   ]
  },
  {
   "cell_type": "markdown",
   "metadata": {},
   "source": [
    "A Distributed Version Control System (DVCS) keeps track of changes to code, regardless of where it is stored. This allows multiple users to work on the same codebase or repository, mirroring the codebase on their own computers if needed, while the distributed version control software helps manage synchronization amongst the various codebase mirrors."
   ]
  },
  {
   "cell_type": "markdown",
   "metadata": {},
   "source": [
    "Since its creation, Git has become the most popular distributed version control system, with nearly 95% of developers reporting it as their primary version control system as of 2022.\n",
    "\n",
    "There are many popular offerings of Git repository services, including GitHub, SourceForge, Bitbucket and GitLab."
   ]
  },
  {
   "cell_type": "markdown",
   "metadata": {},
   "source": [
    "# Github\n",
    "\n",
    "It is a platform and cloud-based service for software development and version control, allowing developers to store and manage their code. It uses Git software, providing the __distributed__ version control of Git.  It is the world's largest source code host as of June 2023."
   ]
  },
  {
   "cell_type": "markdown",
   "metadata": {},
   "source": [
    "# Branching and Merging the branch"
   ]
  },
  {
   "cell_type": "markdown",
   "metadata": {},
   "source": [
    "# Some basic commands\n",
    "\n",
    "git init\n",
    "\n",
    "git add\n",
    "\n",
    "git status\n",
    "\n",
    "git commit\n",
    "\n",
    "git merge\n",
    "\n",
    "git checkout\n",
    "\n",
    "git branch\n",
    "\n",
    "git log \n",
    "\n",
    "git reset"
   ]
  },
  {
   "cell_type": "markdown",
   "metadata": {},
   "source": [
    "# Forking and cloning\n",
    "\n",
    "Forking creates your own copy of a repository in a remote location (for example, GitHub). Your own copy means that you will be able to contribute changes to your copy of the repository without affecting the original repository.\n",
    "\n",
    "Cloning makes a local copy of a repository, not your own copy. Think of it as downloading a repository onto your local hard drive. Unlike forks, clones have references to their original repositories."
   ]
  }
 ],
 "metadata": {
  "language_info": {
   "name": "python"
  }
 },
 "nbformat": 4,
 "nbformat_minor": 2
}
