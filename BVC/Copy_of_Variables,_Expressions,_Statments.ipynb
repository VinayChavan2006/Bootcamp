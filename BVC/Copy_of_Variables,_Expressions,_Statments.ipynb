{
  "nbformat": 4,
  "nbformat_minor": 0,
  "metadata": {
    "colab": {
      "provenance": []
    },
    "kernelspec": {
      "name": "python3",
      "display_name": "Python 3"
    }
  },
  "cells": [
    {
      "cell_type": "markdown",
      "metadata": {
        "id": "_ly3vIo9MMDX"
      },
      "source": [
        "# Variables, Expressions, Statements\n"
      ]
    },
    {
      "cell_type": "markdown",
      "metadata": {
        "id": "YlimLG7WMxvG"
      },
      "source": [
        "## Your First Python Program"
      ]
    },
    {
      "cell_type": "code",
      "metadata": {
        "id": "ylT3UG-jM1C_",
        "colab": {
          "base_uri": "https://localhost:8080/"
        },
        "outputId": "8ea3827b-374d-4a48-8cee-e565032ceaf4"
      },
      "source": [
        "## Print hello World on the screen\n",
        "print(\"Hello World\")"
      ],
      "execution_count": null,
      "outputs": [
        {
          "output_type": "stream",
          "text": [
            "Hello World\n"
          ],
          "name": "stdout"
        }
      ]
    },
    {
      "cell_type": "markdown",
      "metadata": {
        "id": "xpPSjVX4MaxR"
      },
      "source": [
        "## Values\n",
        "- A value is a chunk of data. It is a basic thing that a program works with.\n",
        "\n",
        "A value may be characters i.e. 'Hello, World! ' or a number like 1, 2.1"
      ]
    },
    {
      "cell_type": "code",
      "metadata": {
        "id": "k8TJdp8kLUZy",
        "colab": {
          "base_uri": "https://localhost:8080/"
        },
        "outputId": "d7f7f8e6-cf16-4024-ee97-14d2af4c80ee"
      },
      "source": [
        "# 2 is a value\n",
        "print(2)"
      ],
      "execution_count": null,
      "outputs": [
        {
          "output_type": "stream",
          "text": [
            "2\n"
          ],
          "name": "stdout"
        }
      ]
    },
    {
      "cell_type": "markdown",
      "metadata": {
        "id": "bqPGpzjPkC_C"
      },
      "source": [
        "## Types\n",
        "- Values are of different types. 1 is a number, 'Hello World' is a string."
      ]
    },
    {
      "cell_type": "code",
      "metadata": {
        "id": "kGwI2oZINewy",
        "colab": {
          "base_uri": "https://localhost:8080/"
        },
        "outputId": "f19afb1e-c46e-4385-ef1f-026c77532085"
      },
      "source": [
        "type(1) # integer type"
      ],
      "execution_count": null,
      "outputs": [
        {
          "output_type": "execute_result",
          "data": {
            "text/plain": [
              "int"
            ]
          },
          "metadata": {
            "tags": []
          },
          "execution_count": 3
        }
      ]
    },
    {
      "cell_type": "code",
      "metadata": {
        "id": "4Ibtg0OikUjc",
        "colab": {
          "base_uri": "https://localhost:8080/"
        },
        "outputId": "1e607f1d-5fd7-4eea-d7b0-7fea569f1e8c"
      },
      "source": [
        "type('Hello, World!') # string type"
      ],
      "execution_count": null,
      "outputs": [
        {
          "output_type": "execute_result",
          "data": {
            "text/plain": [
              "str"
            ]
          },
          "metadata": {
            "tags": []
          },
          "execution_count": 4
        }
      ]
    },
    {
      "cell_type": "code",
      "metadata": {
        "id": "Hy2EauVOkaYb",
        "colab": {
          "base_uri": "https://localhost:8080/"
        },
        "outputId": "cdd0d7da-dbd8-4c50-f337-01cf2f709189"
      },
      "source": [
        "type(3.2) # floating point number type"
      ],
      "execution_count": null,
      "outputs": [
        {
          "output_type": "execute_result",
          "data": {
            "text/plain": [
              "float"
            ]
          },
          "metadata": {
            "tags": []
          },
          "execution_count": 5
        }
      ]
    },
    {
      "cell_type": "code",
      "metadata": {
        "id": "lqi_SzEskeL1",
        "colab": {
          "base_uri": "https://localhost:8080/"
        },
        "outputId": "d1a981e5-129d-4840-e7d8-184338b12f56"
      },
      "source": [
        "print(\"My name's is Ujjwal Khandelwal\")"
      ],
      "execution_count": null,
      "outputs": [
        {
          "output_type": "stream",
          "text": [
            "My name's is Ujjwal Khandelwal\n"
          ],
          "name": "stdout"
        }
      ]
    },
    {
      "cell_type": "code",
      "metadata": {
        "id": "0-f6QRLsX5aq",
        "colab": {
          "base_uri": "https://localhost:8080/"
        },
        "outputId": "ca7838ea-5a6b-4a4b-dffc-c1767efb25d9"
      },
      "source": [
        "type(\"23\")"
      ],
      "execution_count": null,
      "outputs": [
        {
          "output_type": "execute_result",
          "data": {
            "text/plain": [
              "str"
            ]
          },
          "metadata": {
            "tags": []
          },
          "execution_count": 16
        }
      ]
    },
    {
      "cell_type": "markdown",
      "metadata": {
        "id": "imgJ23chkqEU"
      },
      "source": [
        "## Variables\n",
        "- A variable is a name that refers to a value.\n",
        "- An assignment statement creates new variables and gives them values"
      ]
    },
    {
      "cell_type": "code",
      "metadata": {
        "id": "XbB1ykI9k6wc"
      },
      "source": [
        "message = 'Now we are going to do something new'\n",
        "n = 23\n",
        "pi = 3.1417"
      ],
      "execution_count": null,
      "outputs": []
    },
    {
      "cell_type": "code",
      "metadata": {
        "colab": {
          "base_uri": "https://localhost:8080/"
        },
        "id": "O7wxahjXSntE",
        "outputId": "f24a5961-6dd3-4d1e-eec4-17ffe11b1761"
      },
      "source": [
        "print(pi)"
      ],
      "execution_count": null,
      "outputs": [
        {
          "output_type": "stream",
          "text": [
            "3.1417\n"
          ],
          "name": "stdout"
        }
      ]
    },
    {
      "cell_type": "markdown",
      "metadata": {
        "id": "HYXsAxu7lIUk"
      },
      "source": [
        "- Type of the variable is the type of the value that it refers to"
      ]
    },
    {
      "cell_type": "code",
      "metadata": {
        "id": "Xswc7jpBlL9S",
        "colab": {
          "base_uri": "https://localhost:8080/"
        },
        "outputId": "62e28647-f685-411e-da85-1754525a7c84"
      },
      "source": [
        "type(message)"
      ],
      "execution_count": null,
      "outputs": [
        {
          "output_type": "execute_result",
          "data": {
            "text/plain": [
              "str"
            ]
          },
          "metadata": {
            "tags": []
          },
          "execution_count": 21
        }
      ]
    },
    {
      "cell_type": "code",
      "metadata": {
        "id": "-E9vYkOGlQ0Q",
        "colab": {
          "base_uri": "https://localhost:8080/"
        },
        "outputId": "fa33344b-a818-4a69-d782-d4df64095069"
      },
      "source": [
        "type(n)"
      ],
      "execution_count": null,
      "outputs": [
        {
          "output_type": "execute_result",
          "data": {
            "text/plain": [
              "int"
            ]
          },
          "metadata": {
            "tags": []
          },
          "execution_count": 22
        }
      ]
    },
    {
      "cell_type": "code",
      "metadata": {
        "id": "nR7SNIBNlN-m",
        "colab": {
          "base_uri": "https://localhost:8080/"
        },
        "outputId": "cda49bdb-47e0-4900-bf9d-b25ed93bd571"
      },
      "source": [
        "type(pi)"
      ],
      "execution_count": null,
      "outputs": [
        {
          "output_type": "execute_result",
          "data": {
            "text/plain": [
              "float"
            ]
          },
          "metadata": {
            "tags": []
          },
          "execution_count": 23
        }
      ]
    },
    {
      "cell_type": "code",
      "metadata": {
        "colab": {
          "base_uri": "https://localhost:8080/"
        },
        "id": "ezQ_E4xCToUr",
        "outputId": "c1460c08-e318-47ea-8262-0f52887a7e7b"
      },
      "source": [
        "n = 12\n",
        "print(n)"
      ],
      "execution_count": null,
      "outputs": [
        {
          "output_type": "stream",
          "text": [
            "12\n"
          ],
          "name": "stdout"
        }
      ]
    },
    {
      "cell_type": "markdown",
      "metadata": {
        "id": "4JxDSuRANyF2"
      },
      "source": [
        "## Identifier\n",
        "An identifier is a name used to identify a python object - variable, module, function, object, Class\n",
        "\n",
        "Rules for defining identifiers -\n",
        "- Identifiers cannot be keywords\n",
        "- Identifiers can contain\n",
        "  (a-z), (A-Z), (0-9), or (_) underscore character\n",
        "- Identifiers cannot start with a number\n",
        "- Identifiers cannot contain special symbols ($, @, !, etc)\n",
        "- Identifiers are case sensitive - var_1 is different from Var_1"
      ]
    },
    {
      "cell_type": "markdown",
      "metadata": {
        "id": "YeCBgri7O0Ut"
      },
      "source": [
        "## Keywords\n",
        "Keywords are reserved words in python. Keywords can only be used for specific purposes in python which are fixed."
      ]
    },
    {
      "cell_type": "code",
      "metadata": {
        "id": "IpDQl3jGl868",
        "colab": {
          "base_uri": "https://localhost:8080/"
        },
        "outputId": "b0409fbc-ba42-488e-b158-b1fbb64ef474"
      },
      "source": [
        "## print all keywords of python\n",
        "import keyword\n",
        "print(keyword.kwlist)"
      ],
      "execution_count": null,
      "outputs": [
        {
          "output_type": "stream",
          "text": [
            "['False', 'None', 'True', 'and', 'as', 'assert', 'async', 'await', 'break', 'class', 'continue', 'def', 'del', 'elif', 'else', 'except', 'finally', 'for', 'from', 'global', 'if', 'import', 'in', 'is', 'lambda', 'nonlocal', 'not', 'or', 'pass', 'raise', 'return', 'try', 'while', 'with', 'yield']\n"
          ],
          "name": "stdout"
        }
      ]
    },
    {
      "cell_type": "code",
      "metadata": {
        "id": "nSK4jAkaNlUn"
      },
      "source": [
        "x1 = 3 # valid identifier"
      ],
      "execution_count": null,
      "outputs": []
    },
    {
      "cell_type": "code",
      "metadata": {
        "id": "q-WHKZyyP1n5",
        "colab": {
          "base_uri": "https://localhost:8080/",
          "height": 129
        },
        "outputId": "c685337d-2396-428f-99d9-85ed15b0e446"
      },
      "source": [
        "1x = 4 # invalid identifier because starts with number"
      ],
      "execution_count": null,
      "outputs": [
        {
          "output_type": "error",
          "ename": "SyntaxError",
          "evalue": "ignored",
          "traceback": [
            "\u001b[0;36m  File \u001b[0;32m\"<ipython-input-29-f0bf7720e862>\"\u001b[0;36m, line \u001b[0;32m1\u001b[0m\n\u001b[0;31m    1x = 4 # invalid identifier because starts with number\u001b[0m\n\u001b[0m     ^\u001b[0m\n\u001b[0;31mSyntaxError\u001b[0m\u001b[0;31m:\u001b[0m invalid syntax\n"
          ]
        }
      ]
    },
    {
      "cell_type": "code",
      "metadata": {
        "colab": {
          "base_uri": "https://localhost:8080/"
        },
        "id": "jjD6NAIpVtHW",
        "outputId": "6f3ca875-a804-4974-eb42-f761a59fe680"
      },
      "source": [
        "n = 5\n",
        "m = 6\n",
        "print(n==m) # 6 5 equal"
      ],
      "execution_count": null,
      "outputs": [
        {
          "output_type": "stream",
          "text": [
            "False\n"
          ],
          "name": "stdout"
        }
      ]
    },
    {
      "cell_type": "code",
      "metadata": {
        "id": "u2oAePAvQOp4"
      },
      "source": [
        "total_marks = 100 # valid identifier with underscore"
      ],
      "execution_count": null,
      "outputs": []
    },
    {
      "cell_type": "markdown",
      "metadata": {
        "id": "qWogWdvRQcqv"
      },
      "source": [
        "## Variable Naming best practices\n",
        "- Start variable names with lower case\n",
        "- Use underscores for readability\n",
        "- Make variable names understandable in context"
      ]
    },
    {
      "cell_type": "code",
      "metadata": {
        "id": "Ih5Ego-uzvoL"
      },
      "source": [
        "total_score = 100 # clear\n",
        "#total_score_in_match = 200\n",
        "ts = 100 # unclear"
      ],
      "execution_count": null,
      "outputs": []
    },
    {
      "cell_type": "markdown",
      "metadata": {
        "id": "DQ7vTKMHmssw"
      },
      "source": [
        "## Operators and Operands\n",
        "- **Operators** are special symbols used to represent operations such as addition or multiplication\n",
        "- An operator is applied to values. The values that an operator is applied to are called **operands**\n",
        "- **+**, **-** , **%**, **/** etc., are a few operators in python."
      ]
    },
    {
      "cell_type": "code",
      "metadata": {
        "id": "Znbcyjc_mrbK",
        "colab": {
          "base_uri": "https://localhost:8080/"
        },
        "outputId": "dd3b3ee1-e5f6-4c62-a838-377bc892c270"
      },
      "source": [
        "2 + 3\n",
        "x = 2\n",
        "y = 4\n",
        "print(x + y/2)"
      ],
      "execution_count": null,
      "outputs": [
        {
          "output_type": "stream",
          "text": [
            "4.0\n"
          ],
          "name": "stdout"
        }
      ]
    },
    {
      "cell_type": "markdown",
      "metadata": {
        "id": "qhgYJ4pdnX5U"
      },
      "source": [
        "## Expressions and Statements\n",
        "- An expression is a combination of values, variables and operators\n",
        "- A value or a variable all by itself is also considered and expression\n",
        "- The following are legal expressions : <br>\n",
        "  23 <br>\n",
        "  x <br>\n",
        "  x + 23 <br>"
      ]
    },
    {
      "cell_type": "code",
      "metadata": {
        "colab": {
          "base_uri": "https://localhost:8080/"
        },
        "id": "BFZOn7cYZAwH",
        "outputId": "64020c1f-f172-4b62-950a-6fe2ca2fd8da"
      },
      "source": [
        "x = 4\n",
        "y = 7\n",
        "z = 10\n",
        "print(x+y+3*z)\n",
        "\n",
        "x # Variables\n",
        "4 # Values\n",
        "x+y+3*z # Expressions"
      ],
      "execution_count": null,
      "outputs": [
        {
          "output_type": "stream",
          "text": [
            "41\n"
          ],
          "name": "stdout"
        }
      ]
    },
    {
      "cell_type": "markdown",
      "metadata": {
        "id": "iciX4k8bn931"
      },
      "source": [
        "- A statement is a unit of code that the python interpreter can execute\n",
        "- We had looked at **assignment** statement earlier\n",
        "- Technically, an expression is also a statement\n",
        "- Main difference: An expression has a value but a statement does not"
      ]
    },
    {
      "cell_type": "code",
      "metadata": {
        "id": "BYp0wA7crWzA"
      },
      "source": [
        "number_of_days_in_week = 7"
      ],
      "execution_count": null,
      "outputs": []
    }
  ]
}