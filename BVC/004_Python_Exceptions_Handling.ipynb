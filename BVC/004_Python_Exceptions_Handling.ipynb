{
  "cells": [
    {
      "cell_type": "markdown",
      "metadata": {
        "id": "w-Ry8XfqGtGf"
      },
      "source": [
        "# Python Exceptions Handling Using `try`, `except` and `finally` statement\n",
        "\n",
        "In this class, you'll learn how to handle exceptions in your Python program using try, except and finally statements with the help of examples."
      ]
    },
    {
      "cell_type": "markdown",
      "metadata": {
        "id": "gBxOHr5QGtGj"
      },
      "source": [
        "## Exceptions in Python\n",
        "\n",
        "An **exception** is an event, which occurs during the execution of a program that disrupts the normal flow of the program's instructions. In general, when a Python script encounters a situation that it cannot cope with, it raises an exception. An exception is a Python object that **represents an error**.\n",
        "\n",
        "Python has many **built-in exceptions** that are raised when your program encounters an error (something in the program goes wrong).\n",
        "\n",
        "When a Python script raises an exception, it must either handle the exception immediately otherwise it **terminates** and **quits**.\n",
        "\n",
        "When these exceptions occur, the Python interpreter stops the current process and passes it to the calling process until it is handled. If not handled, the program will crash.\n",
        "\n",
        "For example, let us consider a program where we have a function **`A`** that calls **function** **`B`**, which in turn calls function **`C`**. If an exception occurs in function **`C`** but is not handled in **`C`**, the exception passes to **`B`** and then to **`A`**.\n",
        "\n",
        "If never handled, an error message is displayed and our program comes to a sudden unexpected halt."
      ]
    },
    {
      "cell_type": "markdown",
      "metadata": {
        "id": "TTgMwxjZGtGk"
      },
      "source": [
        "## Catching Exceptions in Python\n",
        "\n",
        "In Python, exceptions can be handled using a **`try`** statement.\n",
        "\n",
        "The critical operation which can raise an exception is placed inside the **`try`** clause. The code that handles the exceptions is written in the **`except`** clause.\n",
        "\n",
        "We can thus choose what operations to perform once we have caught the exception. Here is a simple example."
      ]
    },
    {
      "cell_type": "code",
      "execution_count": 9,
      "metadata": {
        "ExecuteTime": {
          "end_time": "2021-10-18T18:22:14.133537Z",
          "start_time": "2021-10-18T18:22:14.121821Z"
        },
        "colab": {
          "base_uri": "https://localhost:8080/"
        },
        "id": "YX-tAEgxGtGl",
        "outputId": "fe3170a0-fc80-4134-f573-3a5114dd7e53"
      },
      "outputs": [
        {
          "output_type": "stream",
          "name": "stdout",
          "text": [
            "Something went wrong\n",
            "1\n"
          ]
        }
      ],
      "source": [
        "# Example 1:\n",
        "\n",
        "try:\n",
        "    print(10 + '5')\n",
        "except:\n",
        "    print('Something went wrong')\n",
        "print(1)"
      ]
    },
    {
      "cell_type": "code",
      "execution_count": 10,
      "metadata": {
        "colab": {
          "base_uri": "https://localhost:8080/",
          "height": 179
        },
        "id": "884EcNZOGtGn",
        "outputId": "47ec2d98-0af4-425c-9c86-9e4578d4a21f"
      },
      "outputs": [
        {
          "output_type": "error",
          "ename": "TypeError",
          "evalue": "ignored",
          "traceback": [
            "\u001b[0;31m---------------------------------------------------------------------------\u001b[0m",
            "\u001b[0;31mTypeError\u001b[0m                                 Traceback (most recent call last)",
            "\u001b[0;32m<ipython-input-10-2a425b2115a6>\u001b[0m in \u001b[0;36m<cell line: 1>\u001b[0;34m()\u001b[0m\n\u001b[0;32m----> 1\u001b[0;31m \u001b[0mprint\u001b[0m\u001b[0;34m(\u001b[0m\u001b[0;36m10\u001b[0m \u001b[0;34m+\u001b[0m \u001b[0;34m'5'\u001b[0m\u001b[0;34m)\u001b[0m\u001b[0;34m\u001b[0m\u001b[0;34m\u001b[0m\u001b[0m\n\u001b[0m",
            "\u001b[0;31mTypeError\u001b[0m: unsupported operand type(s) for +: 'int' and 'str'"
          ]
        }
      ],
      "source": [
        "print(10 + '5')"
      ]
    },
    {
      "cell_type": "markdown",
      "metadata": {
        "id": "wckyxGvzGtGo"
      },
      "source": [
        "**Explanation:**\n",
        "\n",
        "In the example above the second operand is a string. We could change it to float or int to add it with the number to make it work. But without any changes, the second block, **`except`**, will be executed."
      ]
    },
    {
      "cell_type": "code",
      "execution_count": 14,
      "metadata": {
        "ExecuteTime": {
          "end_time": "2021-10-18T18:22:14.164787Z",
          "start_time": "2021-10-18T18:22:14.138420Z"
        },
        "scrolled": false,
        "colab": {
          "base_uri": "https://localhost:8080/"
        },
        "id": "yvbdyvssGtGo",
        "outputId": "675cbce7-445f-432b-8538-a91dbc244e3a"
      },
      "outputs": [
        {
          "output_type": "stream",
          "name": "stdout",
          "text": [
            "The entry is a\n",
            "Oops! <class 'ValueError'> occurred.\n",
            "Next entry.\n",
            "\n",
            "The entry is 0\n",
            "Oops! <class 'ZeroDivisionError'> occurred.\n",
            "Next entry.\n",
            "\n",
            "The entry is 2\n",
            "The reciprocal of 2 is 0.5\n"
          ]
        }
      ],
      "source": [
        "# Example 2:\n",
        "\n",
        "# import module sys to get the type of exception\n",
        "import sys\n",
        "\n",
        "randomList = ['a', 0, 2]\n",
        "\n",
        "for entry in randomList:\n",
        "    try:\n",
        "        print(\"The entry is\", entry)\n",
        "        r = 1/int(entry)\n",
        "        break\n",
        "    except:\n",
        "        print(\"Oops!\", sys.exc_info()[0], \"occurred.\")\n",
        "        print(\"Next entry.\")\n",
        "        print()\n",
        "print(\"The reciprocal of\", entry, \"is\", r)"
      ]
    },
    {
      "cell_type": "code",
      "source": [
        "int('a2')"
      ],
      "metadata": {
        "colab": {
          "base_uri": "https://localhost:8080/",
          "height": 179
        },
        "id": "1uoxp8R2W7XR",
        "outputId": "222aa420-c3c4-455d-e140-28d1bc53ef57"
      },
      "execution_count": 13,
      "outputs": [
        {
          "output_type": "error",
          "ename": "ValueError",
          "evalue": "ignored",
          "traceback": [
            "\u001b[0;31m---------------------------------------------------------------------------\u001b[0m",
            "\u001b[0;31mValueError\u001b[0m                                Traceback (most recent call last)",
            "\u001b[0;32m<ipython-input-13-0ece5c6b2618>\u001b[0m in \u001b[0;36m<cell line: 1>\u001b[0;34m()\u001b[0m\n\u001b[0;32m----> 1\u001b[0;31m \u001b[0mint\u001b[0m\u001b[0;34m(\u001b[0m\u001b[0;34m'a2'\u001b[0m\u001b[0;34m)\u001b[0m\u001b[0;34m\u001b[0m\u001b[0;34m\u001b[0m\u001b[0m\n\u001b[0m",
            "\u001b[0;31mValueError\u001b[0m: invalid literal for int() with base 10: 'a2'"
          ]
        }
      ]
    },
    {
      "cell_type": "markdown",
      "metadata": {
        "id": "88HahIoqGtGp"
      },
      "source": [
        "**Explanation:**\n",
        "\n",
        "In this program, we loop through the values of the **`randomList`** list. As previously mentioned, the portion that can cause an exception is placed inside the **`try`** block.\n",
        "\n",
        "If no exception occurs, the **`except`** block is skipped and normal flow continues(for last value). But if any exception occurs, it is caught by the **`except`** block (first and second values).\n",
        "\n",
        "Here, we print the name of the exception using the **`exc_info()`** function inside sys module. We can see that a causes **`ValueError`** and **`0`** causes **`ZeroDivisionError`**."
      ]
    },
    {
      "cell_type": "code",
      "execution_count": 16,
      "metadata": {
        "ExecuteTime": {
          "end_time": "2021-10-18T18:22:14.257073Z",
          "start_time": "2021-10-18T18:22:14.167716Z"
        },
        "scrolled": true,
        "colab": {
          "base_uri": "https://localhost:8080/"
        },
        "id": "MAw_5FgJGtGq",
        "outputId": "f4e139c2-417f-448c-840c-580424fb4fbc"
      },
      "outputs": [
        {
          "output_type": "stream",
          "name": "stdout",
          "text": [
            "The entry is a\n",
            "Oops! <class 'ValueError'> occurred.\n",
            "Next entry.\n",
            "\n",
            "The entry is 0\n",
            "Oops! <class 'ZeroDivisionError'> occurred.\n",
            "Next entry.\n",
            "\n",
            "The entry is 2\n",
            "The reciprocal of 2 is 0.5\n"
          ]
        }
      ],
      "source": [
        "# Example 3:\n",
        "\n",
        "# This program has the same output as the above program.\n",
        "\n",
        "# import module sys to get the type of exception\n",
        "\n",
        "\n",
        "randomList = ['a', 0, 2]\n",
        "\n",
        "for entry in randomList:\n",
        "    try:\n",
        "        print(\"The entry is\", entry)\n",
        "        r = 1/int(entry)\n",
        "        break\n",
        "    except Exception as e:\n",
        "        print(\"Oops!\", e.__class__, \"occurred.\")\n",
        "        print(\"Next entry.\")\n",
        "        print()\n",
        "print(\"The reciprocal of\", entry, \"is\", r)"
      ]
    },
    {
      "cell_type": "code",
      "execution_count": 19,
      "metadata": {
        "ExecuteTime": {
          "end_time": "2021-10-18T18:22:21.569073Z",
          "start_time": "2021-10-18T18:22:14.260978Z"
        },
        "colab": {
          "base_uri": "https://localhost:8080/"
        },
        "id": "97BdCQ6rGtGq",
        "outputId": "19971e85-6f6b-49f0-afd6-3fe5f4e2ded6"
      },
      "outputs": [
        {
          "output_type": "stream",
          "name": "stdout",
          "text": [
            "Enter your name: a\n",
            "Year you were born: 2\n",
            "You are a. And your age is 2020\n"
          ]
        }
      ],
      "source": [
        "# Example 4:\n",
        "\n",
        "try:\n",
        "    name = input('Enter your name: ')\n",
        "    year_born = int(input('Year you were born: '))\n",
        "    age = 2022 - year_born\n",
        "    #print(f'You are {name}. And your age is {age}.')\n",
        "    print('You are {}. And your age is {}'.format(name,age))\n",
        "except:\n",
        "    print('Something went wrong')"
      ]
    },
    {
      "cell_type": "markdown",
      "metadata": {
        "id": "OTBuAcXLGtGr"
      },
      "source": [
        "**Explanation:**\n",
        "\n",
        "In the above example, the exception block will run and we do not know exactly the problem. To analyze the problem, we can use the different error types with except."
      ]
    },
    {
      "cell_type": "markdown",
      "metadata": {
        "id": "jH8D7h-9GtGr"
      },
      "source": [
        "In the following example, it will handle the error and will also tell us the kind of error raised."
      ]
    },
    {
      "cell_type": "code",
      "execution_count": null,
      "metadata": {
        "ExecuteTime": {
          "end_time": "2021-10-18T18:22:33.280977Z",
          "start_time": "2021-10-18T18:22:21.572006Z"
        },
        "id": "7dQh1z__GtGr"
      },
      "outputs": [],
      "source": [
        "# Example 5:\n",
        "\n",
        "try:\n",
        "    name = input('Enter your name: ')\n",
        "    year_born = input('Year you were born: ')\n",
        "    age = 2022 - year_born\n",
        "    print(f'You are {name}. And your age is {age}.')\n",
        "except TypeError:\n",
        "    print('Type error occured')\n",
        "except ValueError:\n",
        "    print('Value error occured')\n",
        "except ZeroDivisionError:\n",
        "    print('zero division error occured')"
      ]
    },
    {
      "cell_type": "markdown",
      "metadata": {
        "id": "xwO4IZD-GtGr"
      },
      "source": [
        "## Catching Specific Exceptions in Python\n",
        "\n",
        "In the above example, we did not mention any specific exception in the **`except`** clause.\n",
        "\n",
        "This is not a good programming practice as it will catch all exceptions and handle every case in the same way. We can specify which exceptions an **`except`** clause should catch.\n",
        "\n",
        "A **`try`** clause can have any number of **`except`** clauses to handle different exceptions, however, only one will be executed in case an exception occurs.\n",
        "\n",
        "We can use a tuple of values to specify multiple exceptions in an **`except`** clause. Here is an example pseudo code.\n",
        "\n",
        "```python\n",
        ">>> try:\n",
        ">>>    # do something\n",
        ">>>    pass\n",
        "\n",
        ">>> except ValueError:\n",
        ">>>    # handle ValueError exception\n",
        ">>>    pass\n",
        "\n",
        ">>> except (TypeError, ZeroDivisionError):\n",
        ">>>    # handle multiple exceptions\n",
        ">>>    # TypeError and ZeroDivisionError\n",
        ">>>    pass\n",
        "\n",
        ">>> except:\n",
        ">>>    # handle all other exceptions\n",
        ">>>    pass\n",
        "```"
      ]
    },
    {
      "cell_type": "markdown",
      "metadata": {
        "id": "kbqXwJtwGtGs"
      },
      "source": [
        "## Raising Exceptions in Python\n",
        "\n",
        "In Python programming, exceptions are raised when errors occur at runtime. We can also manually **`raise`** exceptions using the raise keyword.\n",
        "\n",
        "We can optionally pass values to the exception to clarify why that exception was raised."
      ]
    },
    {
      "cell_type": "code",
      "execution_count": 20,
      "metadata": {
        "ExecuteTime": {
          "end_time": "2021-10-18T18:22:33.727265Z",
          "start_time": "2021-10-18T18:22:33.282934Z"
        },
        "scrolled": true,
        "colab": {
          "base_uri": "https://localhost:8080/",
          "height": 179
        },
        "id": "oL3j7OmsGtGs",
        "outputId": "8b0c92b0-4dd7-44d2-b499-0cf6ba76616b"
      },
      "outputs": [
        {
          "output_type": "error",
          "ename": "KeyboardInterrupt",
          "evalue": "ignored",
          "traceback": [
            "\u001b[0;31m---------------------------------------------------------------------------\u001b[0m",
            "\u001b[0;31mKeyboardInterrupt\u001b[0m                         Traceback (most recent call last)",
            "\u001b[0;32m<ipython-input-20-c761920b81b0>\u001b[0m in \u001b[0;36m<cell line: 1>\u001b[0;34m()\u001b[0m\n\u001b[0;32m----> 1\u001b[0;31m \u001b[0;32mraise\u001b[0m \u001b[0mKeyboardInterrupt\u001b[0m\u001b[0;34m\u001b[0m\u001b[0;34m\u001b[0m\u001b[0m\n\u001b[0m",
            "\u001b[0;31mKeyboardInterrupt\u001b[0m: "
          ]
        }
      ],
      "source": [
        "raise KeyboardInterrupt"
      ]
    },
    {
      "cell_type": "code",
      "execution_count": 21,
      "metadata": {
        "ExecuteTime": {
          "end_time": "2021-10-18T18:22:39.742401Z",
          "start_time": "2021-10-18T18:22:39.721896Z"
        },
        "scrolled": true,
        "colab": {
          "base_uri": "https://localhost:8080/",
          "height": 179
        },
        "id": "pMjg-paeGtGs",
        "outputId": "eed3068a-0895-42f0-9b74-53dfc89cc241"
      },
      "outputs": [
        {
          "output_type": "error",
          "ename": "MemoryError",
          "evalue": "ignored",
          "traceback": [
            "\u001b[0;31m---------------------------------------------------------------------------\u001b[0m",
            "\u001b[0;31mMemoryError\u001b[0m                               Traceback (most recent call last)",
            "\u001b[0;32m<ipython-input-21-51782e52f201>\u001b[0m in \u001b[0;36m<cell line: 1>\u001b[0;34m()\u001b[0m\n\u001b[0;32m----> 1\u001b[0;31m \u001b[0;32mraise\u001b[0m \u001b[0mMemoryError\u001b[0m\u001b[0;34m(\u001b[0m\u001b[0;34m\"This is an argument\"\u001b[0m\u001b[0;34m)\u001b[0m\u001b[0;34m\u001b[0m\u001b[0;34m\u001b[0m\u001b[0m\n\u001b[0m",
            "\u001b[0;31mMemoryError\u001b[0m: This is an argument"
          ]
        }
      ],
      "source": [
        "raise MemoryError(\"This is an argument\")"
      ]
    },
    {
      "cell_type": "code",
      "execution_count": 24,
      "metadata": {
        "ExecuteTime": {
          "end_time": "2021-10-18T18:22:50.194545Z",
          "start_time": "2021-10-18T18:22:40.446502Z"
        },
        "colab": {
          "base_uri": "https://localhost:8080/"
        },
        "id": "X6bvWFauGtGs",
        "outputId": "6b53d35a-47c9-4a3f-91a8-c8f50781d0ea"
      },
      "outputs": [
        {
          "output_type": "stream",
          "name": "stdout",
          "text": [
            "Enter a positive integer: -2\n",
            "<class 'ValueError'>\n"
          ]
        }
      ],
      "source": [
        "try:\n",
        "    a = int(input(\"Enter a positive integer: \"))\n",
        "    if a <= 0:\n",
        "        raise ValueError(\"That is not a positive number!\")\n",
        "except ValueError as ve:\n",
        "    print(type(ve))"
      ]
    },
    {
      "cell_type": "markdown",
      "metadata": {
        "id": "-vYPQrBSGtGt"
      },
      "source": [
        "### Python `try` with `else` clause\n",
        "\n",
        "In some situations, you might want to run a certain block of code if the code block inside `try` ran without any errors. For these cases, you can use the optional `else` keyword with the `try` statement.\n",
        "\n",
        ">**Note**: Exceptions in the else clause are not handled by the preceding except clauses.\n",
        "\n",
        "```python\n",
        ">>> try:\n",
        ">>>    You do your operations here\n",
        ">>>    ......................\n",
        ">>> except ExceptionI:\n",
        ">>>    If there is ExceptionI, then execute this block.\n",
        ">>> except ExceptionII:\n",
        ">>>    If there is ExceptionII, then execute this block.\n",
        ">>>    ......................\n",
        ">>> else:\n",
        ">>>    If there is no exception then execute this block.\n",
        "```"
      ]
    },
    {
      "cell_type": "markdown",
      "metadata": {
        "id": "6qur8u5xGtGt"
      },
      "source": [
        "With our **“Hello, World!”** program written, we are ready to run the program. We’ll use the python3 command along with the name of our program file. Let’s run the program:\n",
        "\n",
        "* A single try statement can have multiple except statements. This is useful when the **try block** contains statements that may throw different types of exceptions.\n",
        "\n",
        "* You can also provide a **generic except** clause, which handles any exception.\n",
        "\n",
        "* After the **except** clause(s), you can include an else-clause. The code in the else-block executes if the code in the try: block does not raise an exception.\n",
        "\n",
        "* The **else-block** is a good place for code that does not need the try: block's protection."
      ]
    },
    {
      "cell_type": "code",
      "execution_count": 25,
      "metadata": {
        "ExecuteTime": {
          "end_time": "2021-10-18T18:22:56.773645Z",
          "start_time": "2021-10-18T18:22:56.763883Z"
        },
        "scrolled": false,
        "colab": {
          "base_uri": "https://localhost:8080/"
        },
        "id": "edPWwDQjGtGt",
        "outputId": "c03109f4-ccdc-4276-b5f3-3a558983a180"
      },
      "outputs": [
        {
          "output_type": "stream",
          "name": "stdout",
          "text": [
            "Written content in the file successfully\n"
          ]
        }
      ],
      "source": [
        "# Example 1:\n",
        "\n",
        "try:\n",
        "    fh = open(\"testfile.txt\", \"w\")\n",
        "    fh.write(\"This is my test file for exception handling!!\")\n",
        "except IOError:\n",
        "    print (\"Error: can\\'t find file or read data\")\n",
        "else:\n",
        "    print (\"Written content in the file successfully\")\n",
        "    fh.close()"
      ]
    },
    {
      "cell_type": "code",
      "execution_count": 29,
      "metadata": {
        "ExecuteTime": {
          "end_time": "2021-10-18T18:23:10.926958Z",
          "start_time": "2021-10-18T18:23:02.681849Z"
        },
        "scrolled": true,
        "colab": {
          "base_uri": "https://localhost:8080/",
          "height": 251
        },
        "id": "7C0g9CABGtGu",
        "outputId": "5151f76c-aa21-40df-fcaa-e403e4f6ed40"
      },
      "outputs": [
        {
          "name": "stdout",
          "output_type": "stream",
          "text": [
            "Enter a number: 0\n"
          ]
        },
        {
          "output_type": "error",
          "ename": "ZeroDivisionError",
          "evalue": "ignored",
          "traceback": [
            "\u001b[0;31m---------------------------------------------------------------------------\u001b[0m",
            "\u001b[0;31mZeroDivisionError\u001b[0m                         Traceback (most recent call last)",
            "\u001b[0;32m<ipython-input-29-76720825c35d>\u001b[0m in \u001b[0;36m<cell line: 3>\u001b[0;34m()\u001b[0m\n\u001b[1;32m      7\u001b[0m     \u001b[0mprint\u001b[0m\u001b[0;34m(\u001b[0m\u001b[0;34m\"Not an even number!\"\u001b[0m\u001b[0;34m)\u001b[0m\u001b[0;34m\u001b[0m\u001b[0;34m\u001b[0m\u001b[0m\n\u001b[1;32m      8\u001b[0m \u001b[0;32melse\u001b[0m\u001b[0;34m:\u001b[0m\u001b[0;34m\u001b[0m\u001b[0;34m\u001b[0m\u001b[0m\n\u001b[0;32m----> 9\u001b[0;31m     \u001b[0mreciprocal\u001b[0m \u001b[0;34m=\u001b[0m \u001b[0;36m1\u001b[0m\u001b[0;34m/\u001b[0m\u001b[0mnum\u001b[0m\u001b[0;34m\u001b[0m\u001b[0;34m\u001b[0m\u001b[0m\n\u001b[0m\u001b[1;32m     10\u001b[0m     \u001b[0mprint\u001b[0m\u001b[0;34m(\u001b[0m\u001b[0mreciprocal\u001b[0m\u001b[0;34m)\u001b[0m\u001b[0;34m\u001b[0m\u001b[0;34m\u001b[0m\u001b[0m\n",
            "\u001b[0;31mZeroDivisionError\u001b[0m: division by zero"
          ]
        }
      ],
      "source": [
        "# Example 2: program to print the reciprocal of even numbers\n",
        "\n",
        "try:\n",
        "    num = int(input(\"Enter a number: \"))\n",
        "    assert num % 2 == 0\n",
        "except:\n",
        "    print(\"Not an even number!\")\n",
        "else:\n",
        "    reciprocal = 1/num\n",
        "    print(reciprocal)"
      ]
    },
    {
      "cell_type": "markdown",
      "metadata": {
        "id": "vhWjJZXcGtGu"
      },
      "source": [
        "**Explanation**:\n",
        "\n",
        "If we pass an odd number:\n",
        "\n",
        "```python\n",
        "Enter a number: 1\n",
        "Not an even number!\n",
        "```\n",
        "\n",
        "If we pass an even number, the reciprocal is computed and displayed.\n",
        "\n",
        "```python\n",
        "Enter a number: 4\n",
        "0.25\n",
        "```\n",
        "\n",
        "However, if we pass 0, we get **`ZeroDivisionError`** as the code block inside else is not handled by preceding except.\n",
        "\n",
        "```python\n",
        "Enter a number: 0\n",
        "Traceback (most recent call last):\n",
        "  File \"<string>\", line 7, in <module>\n",
        "    reciprocal = 1/num\n",
        "ZeroDivisionError: division by zero\n",
        "```"
      ]
    },
    {
      "cell_type": "markdown",
      "metadata": {
        "id": "OwIicTs0GtGv"
      },
      "source": [
        "## Python `try`-`finally` Clause\n",
        "\n",
        "The **`try`** statement in Python can have an optional **`finally`** clause. This clause is executed no matter what, and is generally used to release external resources.\n",
        "\n",
        "For example, we may be connected to a remote data center through the network or working with a file or a Graphical User Interface (GUI).\n",
        "\n",
        "In all these circumstances, we must clean up the resource before the program comes to a halt whether it successfully ran or not. These actions (closing a file, GUI or disconnecting from network) are performed in the **`finally`** clause to guarantee the execution.\n",
        "\n",
        "You can use a **finally: block** along with a try: block. The finally: block is a place to put any code that must execute, whether the **try-block** raised an exception or not. The syntax of the **try-finally** statement is this −\n",
        "\n",
        "```python\n",
        ">>> try:\n",
        ">>>    You do your operations here;\n",
        ">>>     ......................\n",
        ">>>    Due to any exception, this may be skipped.\n",
        ">>> finally:\n",
        ">>>    This would always be executed.\n",
        ">>>    ......................\n",
        "```\n",
        "\n"
      ]
    },
    {
      "cell_type": "code",
      "execution_count": 30,
      "metadata": {
        "ExecuteTime": {
          "end_time": "2021-10-18T18:23:19.191606Z",
          "start_time": "2021-10-18T18:23:19.177935Z"
        },
        "colab": {
          "base_uri": "https://localhost:8080/"
        },
        "id": "VQlP1vRsGtGv",
        "outputId": "be3c16e2-f69d-4eea-c55c-b6ac482956a8"
      },
      "outputs": [
        {
          "output_type": "stream",
          "name": "stdout",
          "text": [
            "Error: can't find file or read data\n"
          ]
        }
      ],
      "source": [
        "try:\n",
        "    fh = open(\"testfile.txt\", \"w\")\n",
        "    fh.write(\"This is my test file for exception handling!!\")\n",
        "finally:\n",
        "    print (\"Error: can\\'t find file or read data\")\n",
        "    fh.close()\n",
        "\n",
        "# If you do not have permission to open the file in writing mode,\n",
        "# then this will produce the following result −"
      ]
    },
    {
      "cell_type": "markdown",
      "metadata": {
        "id": "4-jeWrIBGtGv"
      },
      "source": [
        "Here is an example of **file operations** to illustrate this."
      ]
    },
    {
      "cell_type": "code",
      "execution_count": null,
      "metadata": {
        "ExecuteTime": {
          "end_time": "2021-10-18T18:23:30.807811Z",
          "start_time": "2021-10-18T18:23:30.786329Z"
        },
        "id": "Mw5RnQn9GtGv"
      },
      "outputs": [],
      "source": [
        "try:\n",
        "    f = open(\"testfile.txt\",encoding = 'utf-8')\n",
        "    # perform file operations\n",
        "finally:\n",
        "    f.close()"
      ]
    },
    {
      "cell_type": "markdown",
      "metadata": {
        "id": "S6qhB_YxGtGw"
      },
      "source": [
        "**Explanation**:\n",
        "\n",
        "This type of construct makes sure that the file is closed even if an exception occurs during the program execution."
      ]
    },
    {
      "cell_type": "markdown",
      "metadata": {
        "id": "y4Vh1p6QGtGw"
      },
      "source": [
        "In the **# Example 5:** code above the output is going to be **`TypeError`**.\n",
        "Now, let's add an additional block:"
      ]
    },
    {
      "cell_type": "code",
      "execution_count": 34,
      "metadata": {
        "ExecuteTime": {
          "end_time": "2021-10-18T18:23:52.480166Z",
          "start_time": "2021-10-18T18:23:45.979682Z"
        },
        "scrolled": true,
        "colab": {
          "base_uri": "https://localhost:8080/"
        },
        "id": "B6KxcPXQGtGw",
        "outputId": "048d78d8-ae46-430a-97f5-a799d0e224b6"
      },
      "outputs": [
        {
          "output_type": "stream",
          "name": "stdout",
          "text": [
            "Enter your name: a\n",
            "Year you born: a\n",
            "Value error occur\n",
            "I always run.\n"
          ]
        }
      ],
      "source": [
        "# Example:\n",
        "\n",
        "try:\n",
        "    name = input('Enter your name: ')\n",
        "    year_born = input('Year you born: ')\n",
        "    age = 2022 - int(year_born)\n",
        "    print(f'You are {name}. And your age is {age}.')\n",
        "except TypeError:\n",
        "    print('Type error occur')\n",
        "except ValueError:\n",
        "    print('Value error occur')\n",
        "except ZeroDivisionError:\n",
        "    print('zero division error occur')\n",
        "else:\n",
        "    print('I usually run with the try block')\n",
        "finally:\n",
        "    print('I always run.')"
      ]
    },
    {
      "cell_type": "markdown",
      "metadata": {
        "id": "CMZVQvGGGtGw"
      },
      "source": [
        "It is also shorten the above code as follows:"
      ]
    },
    {
      "cell_type": "code",
      "execution_count": 36,
      "metadata": {
        "ExecuteTime": {
          "end_time": "2021-10-18T18:24:01.871273Z",
          "start_time": "2021-10-18T18:23:56.755068Z"
        },
        "colab": {
          "base_uri": "https://localhost:8080/"
        },
        "id": "KliGibwwGtGw",
        "outputId": "e1567875-6f4c-496a-e843-492174bbe365"
      },
      "outputs": [
        {
          "output_type": "stream",
          "name": "stdout",
          "text": [
            "Enter your name: a\n",
            "Year you born: a\n",
            "<class 'ValueError'>\n"
          ]
        }
      ],
      "source": [
        "try:\n",
        "    name = input('Enter your name: ')\n",
        "    year_born = input('Year you born: ')\n",
        "    age = 2022 - int(year_born)\n",
        "    print(f'You are {name}. And your age is {age}.')\n",
        "except Exception as e:\n",
        "    print(type(e))"
      ]
    },
    {
      "cell_type": "markdown",
      "metadata": {
        "id": "0LyuEB5HGtG2"
      },
      "source": [
        "## Packing and Unpacking Arguments in Python\n",
        "\n",
        "We use two operators:\n",
        "\n",
        "- **`*`** for tuples\n",
        "- __`**`__ for dictionaries\n",
        "\n",
        "Let us take as an example below. It takes only arguments but we have list. We can unpack the list and changes to argument."
      ]
    },
    {
      "cell_type": "markdown",
      "metadata": {
        "id": "Q4nThWyoGtG2"
      },
      "source": [
        "### Unpacking"
      ]
    },
    {
      "cell_type": "markdown",
      "metadata": {
        "id": "81SEeMYiGtG2"
      },
      "source": [
        "#### Unpacking Lists"
      ]
    },
    {
      "cell_type": "code",
      "execution_count": 37,
      "metadata": {
        "ExecuteTime": {
          "end_time": "2021-10-18T18:24:11.762386Z",
          "start_time": "2021-10-18T18:24:11.602720Z"
        },
        "scrolled": true,
        "colab": {
          "base_uri": "https://localhost:8080/",
          "height": 215
        },
        "id": "0YYOyVlXGtG2",
        "outputId": "9e623627-f5f9-4c48-fe97-fb818b406da1"
      },
      "outputs": [
        {
          "output_type": "error",
          "ename": "TypeError",
          "evalue": "ignored",
          "traceback": [
            "\u001b[0;31m---------------------------------------------------------------------------\u001b[0m",
            "\u001b[0;31mTypeError\u001b[0m                                 Traceback (most recent call last)",
            "\u001b[0;32m<ipython-input-37-b951d4fef2c8>\u001b[0m in \u001b[0;36m<cell line: 5>\u001b[0;34m()\u001b[0m\n\u001b[1;32m      3\u001b[0m \u001b[0;34m\u001b[0m\u001b[0m\n\u001b[1;32m      4\u001b[0m \u001b[0mlst\u001b[0m \u001b[0;34m=\u001b[0m \u001b[0;34m[\u001b[0m\u001b[0;36m1\u001b[0m\u001b[0;34m,\u001b[0m \u001b[0;36m2\u001b[0m\u001b[0;34m,\u001b[0m \u001b[0;36m3\u001b[0m\u001b[0;34m,\u001b[0m \u001b[0;36m4\u001b[0m\u001b[0;34m,\u001b[0m \u001b[0;36m5\u001b[0m\u001b[0;34m]\u001b[0m\u001b[0;34m\u001b[0m\u001b[0;34m\u001b[0m\u001b[0m\n\u001b[0;32m----> 5\u001b[0;31m \u001b[0mprint\u001b[0m\u001b[0;34m(\u001b[0m\u001b[0msum_of_five_nums\u001b[0m\u001b[0;34m(\u001b[0m\u001b[0mlst\u001b[0m\u001b[0;34m)\u001b[0m\u001b[0;34m)\u001b[0m \u001b[0;31m# TypeError: sum_of_five_nums() missing 4 required positional arguments: 'b', 'c', 'd', and 'e'\u001b[0m\u001b[0;34m\u001b[0m\u001b[0;34m\u001b[0m\u001b[0m\n\u001b[0m",
            "\u001b[0;31mTypeError\u001b[0m: sum_of_five_nums() missing 4 required positional arguments: 'b', 'c', 'd', and 'e'"
          ]
        }
      ],
      "source": [
        "def sum_of_five_nums(a, b, c, d, e):\n",
        "    return a + b + c + d + e\n",
        "\n",
        "lst = [1, 2, 3, 4, 5]\n",
        "print(sum_of_five_nums(lst)) # TypeError: sum_of_five_nums() missing 4 required positional arguments: 'b', 'c', 'd', and 'e'"
      ]
    },
    {
      "cell_type": "markdown",
      "metadata": {
        "id": "55VwGNpOGtG2"
      },
      "source": [
        "When we run the above code, it raises an error, because this function takes numbers (not a list) as arguments. Let us unpack/destructure the list."
      ]
    },
    {
      "cell_type": "code",
      "execution_count": 38,
      "metadata": {
        "ExecuteTime": {
          "end_time": "2021-10-18T18:24:12.924982Z",
          "start_time": "2021-10-18T18:24:12.916194Z"
        },
        "colab": {
          "base_uri": "https://localhost:8080/"
        },
        "id": "fAcazf3QGtG3",
        "outputId": "9ca3c738-045c-4e3b-8ede-cacfc1b3a3c3"
      },
      "outputs": [
        {
          "output_type": "stream",
          "name": "stdout",
          "text": [
            "15\n"
          ]
        }
      ],
      "source": [
        "def sum_of_five_nums(a, b, c, d, e):\n",
        "    return a + b + c + d + e\n",
        "\n",
        "lst = [1, 2, 3, 4, 5]\n",
        "print(sum_of_five_nums(*lst))  # 15"
      ]
    },
    {
      "cell_type": "markdown",
      "metadata": {
        "id": "9qT29wPDGtG3"
      },
      "source": [
        "We can also use unpacking in the **range()** built-in function that expects a start and an end."
      ]
    },
    {
      "cell_type": "code",
      "execution_count": 41,
      "metadata": {
        "ExecuteTime": {
          "end_time": "2021-10-18T18:24:13.972830Z",
          "start_time": "2021-10-18T18:24:13.954281Z"
        },
        "colab": {
          "base_uri": "https://localhost:8080/"
        },
        "id": "wsnJF1FfGtG3",
        "outputId": "6b74c94a-80bc-469b-858f-b14c9c8c3733"
      },
      "outputs": [
        {
          "output_type": "stream",
          "name": "stdout",
          "text": [
            "[2, 3, 4, 5, 6]\n",
            "range(2, 7)\n"
          ]
        }
      ],
      "source": [
        "numbers = range(2, 7)  # normal call with separate arguments\n",
        "print(list(numbers)) # [2, 3, 4, 5, 6]\n",
        "args = [2, 7]\n",
        "numbers = range(*args)  # call with arguments unpacked from a list\n",
        "print(numbers)      # [2, 3, 4, 5,6]"
      ]
    },
    {
      "cell_type": "markdown",
      "metadata": {
        "id": "WnFQoe6uGtG4"
      },
      "source": [
        "#### Unpacking List or a Tuple"
      ]
    },
    {
      "cell_type": "code",
      "execution_count": 42,
      "metadata": {
        "ExecuteTime": {
          "end_time": "2021-10-18T18:24:15.114433Z",
          "start_time": "2021-10-18T18:24:15.090999Z"
        },
        "colab": {
          "base_uri": "https://localhost:8080/"
        },
        "id": "PA_nB8n-GtG4",
        "outputId": "8469873d-f12e-49c2-92c2-df6735b4cd05"
      },
      "outputs": [
        {
          "output_type": "stream",
          "name": "stdout",
          "text": [
            "Finland Sweden Norway ['Denmark', 'Iceland']\n",
            "1 [2, 3, 4, 5, 6] 7\n"
          ]
        }
      ],
      "source": [
        "countries = ['Finland', 'Sweden', 'Norway', 'Denmark', 'Iceland']\n",
        "fin, sw, nor, *rest = countries\n",
        "print(fin, sw, nor, rest)   # Finland Sweden Norway ['Denmark', 'Iceland']\n",
        "numbers = [1, 2, 3, 4, 5, 6, 7]\n",
        "one, *middle, last = numbers\n",
        "print(one, middle, last)      #  1 [2, 3, 4, 5, 6] 7"
      ]
    },
    {
      "cell_type": "markdown",
      "metadata": {
        "id": "RCPjoV8YGtG4"
      },
      "source": [
        "#### Unpacking Dictionaries"
      ]
    },
    {
      "cell_type": "code",
      "execution_count": 43,
      "metadata": {
        "ExecuteTime": {
          "end_time": "2021-10-18T18:24:16.053883Z",
          "start_time": "2021-10-18T18:24:16.034358Z"
        },
        "colab": {
          "base_uri": "https://localhost:8080/"
        },
        "id": "jr6fXNZ4GtG4",
        "outputId": "92611ddb-5739-4dad-dff2-1db7f9f35654"
      },
      "outputs": [
        {
          "output_type": "stream",
          "name": "stdout",
          "text": [
            "Milaan lives in England, London. He is 96 year old.\n"
          ]
        }
      ],
      "source": [
        "def unpacking_person_info(name, country, city, age):\n",
        "    return f'{name} lives in {country}, {city}. He is {age} year old.'\n",
        "dct = {'name':'Milaan', 'country':'England', 'city':'London', 'age':96}\n",
        "print(unpacking_person_info(**dct)) # Milaan lives in England, London. He is 96 year old."
      ]
    },
    {
      "cell_type": "markdown",
      "metadata": {
        "id": "c22aKYOoGtG4"
      },
      "source": [
        "### Packing\n",
        "\n",
        "Sometimes we never know how many arguments need to be passed to a python function. We can use the packing method to allow our function to take unlimited number or arbitrary number of arguments."
      ]
    },
    {
      "cell_type": "markdown",
      "metadata": {
        "id": "NR9pdvj2GtG5"
      },
      "source": [
        "#### Packing Tuples"
      ]
    },
    {
      "cell_type": "code",
      "execution_count": 53,
      "metadata": {
        "ExecuteTime": {
          "end_time": "2021-10-18T18:24:17.345388Z",
          "start_time": "2021-10-18T18:24:17.331721Z"
        },
        "colab": {
          "base_uri": "https://localhost:8080/"
        },
        "id": "FGyX6sMfGtG5",
        "outputId": "c10c8e36-883b-4dfd-a496-8be24ccf102d"
      },
      "outputs": [
        {
          "output_type": "stream",
          "name": "stdout",
          "text": [
            "6\n",
            "28\n"
          ]
        }
      ],
      "source": [
        "def sum_all(*args):   #args is a tuple\n",
        "    s = 0\n",
        "    for i in args:\n",
        "        s += i\n",
        "    return s\n",
        "print(sum_all(1, 2, 3))             # 6\n",
        "print(sum_all(1, 2, 3, 4, 5, 6, 7)) # 28"
      ]
    },
    {
      "cell_type": "markdown",
      "metadata": {
        "id": "V83WeP_uGtG5"
      },
      "source": [
        "#### Packing Dictionaries"
      ]
    },
    {
      "cell_type": "code",
      "execution_count": 47,
      "metadata": {
        "ExecuteTime": {
          "end_time": "2021-10-18T18:24:17.991386Z",
          "start_time": "2021-10-18T18:24:17.982596Z"
        },
        "colab": {
          "base_uri": "https://localhost:8080/"
        },
        "id": "gVN0wIiKGtG5",
        "outputId": "099a3027-933a-4a4a-9e40-78f718ddc82b"
      },
      "outputs": [
        {
          "output_type": "stream",
          "name": "stdout",
          "text": [
            "name = Milaan\n",
            "country = England\n",
            "city = London\n",
            "age = 96\n",
            "{'name': 'Milaan', 'country': 'England', 'city': 'London', 'age': 96}\n"
          ]
        }
      ],
      "source": [
        "def packing_person_info(**kwargs):\n",
        "    # check the type of kwargs and it is a dict type\n",
        "    # print(type(kwargs))\n",
        "        # Printing dictionary items\n",
        "    for key in kwargs:\n",
        "        print(f\"{key} = {kwargs[key]}\")\n",
        "    return kwargs\n",
        "\n",
        "print(packing_person_info(name=\"Milaan\",\n",
        "      country=\"England\", city=\"London\", age=96))"
      ]
    },
    {
      "cell_type": "markdown",
      "metadata": {
        "id": "_6PM8Xs5GtG5"
      },
      "source": [
        "## Spreading in Python\n",
        "\n",
        "Like in JavaScript, spreading is possible in Python. Let us check it in an example below:"
      ]
    },
    {
      "cell_type": "code",
      "execution_count": 48,
      "metadata": {
        "ExecuteTime": {
          "end_time": "2021-10-18T18:24:18.884449Z",
          "start_time": "2021-10-18T18:24:18.867852Z"
        },
        "colab": {
          "base_uri": "https://localhost:8080/"
        },
        "id": "8U3WXBu5GtG5",
        "outputId": "d7a213b2-d701-40b8-fc80-b6774f8e5894"
      },
      "outputs": [
        {
          "output_type": "stream",
          "name": "stdout",
          "text": [
            "[0, 1, 2, 3, 4, 5, 6, 7]\n",
            "['Finland', 'Sweden', 'Norway', 'Denmark', 'Iceland']\n"
          ]
        }
      ],
      "source": [
        "lst_one = [1, 2, 3]\n",
        "lst_two = [4, 5, 6, 7]\n",
        "lst = [0, *lst_one, *lst_two]\n",
        "print(lst)          # [0, 1, 2, 3, 4, 5, 6, 7]\n",
        "country_lst_one = ['Finland', 'Sweden', 'Norway']\n",
        "country_lst_two = ['Denmark', 'Iceland']\n",
        "nordic_countries = [*country_lst_one, *country_lst_two]\n",
        "print(nordic_countries)  # ['Finland', 'Sweden', 'Norway', 'Denmark', 'Iceland']"
      ]
    },
    {
      "cell_type": "markdown",
      "metadata": {
        "id": "VK1VeW3QGtG6"
      },
      "source": [
        "## Enumerate\n",
        "\n",
        "If we are interested in an index of a list, we use *enumerate* built-in function to get the index of each item in the list."
      ]
    },
    {
      "cell_type": "code",
      "execution_count": 49,
      "metadata": {
        "ExecuteTime": {
          "end_time": "2021-10-18T18:24:20.685720Z",
          "start_time": "2021-10-18T18:24:20.674978Z"
        },
        "colab": {
          "base_uri": "https://localhost:8080/"
        },
        "id": "y93CEDouGtG6",
        "outputId": "84985bb2-a0bd-499c-ea20-55260e6458f0"
      },
      "outputs": [
        {
          "output_type": "stream",
          "name": "stdout",
          "text": [
            "0 20\n",
            "1 30\n",
            "2 40\n"
          ]
        }
      ],
      "source": [
        "for index, item in enumerate([20, 30, 40]):\n",
        "    print(index, item)"
      ]
    },
    {
      "cell_type": "code",
      "execution_count": 51,
      "metadata": {
        "ExecuteTime": {
          "end_time": "2021-10-18T18:24:21.672534Z",
          "start_time": "2021-10-18T18:24:21.651053Z"
        },
        "colab": {
          "base_uri": "https://localhost:8080/"
        },
        "id": "m_71KPaZGtG6",
        "outputId": "548a1a0b-7410-4b3e-fae9-387b4230ea54"
      },
      "outputs": [
        {
          "output_type": "stream",
          "name": "stdout",
          "text": [
            "hi\n",
            "The country Finland has been found at index 0\n",
            "hi\n",
            "hi\n",
            "hi\n",
            "hi\n"
          ]
        }
      ],
      "source": [
        "for index, i in enumerate(countries):\n",
        "    print('hi')\n",
        "    if i == 'Finland':\n",
        "        print(f'The country {i} has been found at index {index}')"
      ]
    },
    {
      "cell_type": "markdown",
      "metadata": {
        "id": "6cLW0W36GtG6"
      },
      "source": [
        "## Zip\n",
        "\n",
        "Sometimes we would like to combine lists when looping through them. See the example below:"
      ]
    },
    {
      "cell_type": "code",
      "execution_count": 52,
      "metadata": {
        "ExecuteTime": {
          "end_time": "2021-10-18T18:24:23.259935Z",
          "start_time": "2021-10-18T18:24:23.243339Z"
        },
        "colab": {
          "base_uri": "https://localhost:8080/"
        },
        "id": "zK5jsA2EGtG6",
        "outputId": "9b4e9618-a863-4516-f7cd-f02aef04e76c"
      },
      "outputs": [
        {
          "output_type": "stream",
          "name": "stdout",
          "text": [
            "[{'fruit': 'banana', 'veg': 'Tomato'}, {'fruit': 'orange', 'veg': 'Potato'}, {'fruit': 'mango', 'veg': 'Cabbage'}, {'fruit': 'lemon', 'veg': 'Onion'}, {'fruit': 'lime', 'veg': 'Carrot'}]\n"
          ]
        }
      ],
      "source": [
        "fruits = ['banana', 'orange', 'mango', 'lemon', 'lime']\n",
        "vegetables = ['Tomato', 'Potato', 'Cabbage','Onion', 'Carrot']\n",
        "fruits_and_veges = []\n",
        "for f, v in zip(fruits, vegetables):\n",
        "    fruits_and_veges.append({'fruit':f, 'veg':v})\n",
        "\n",
        "print(fruits_and_veges)"
      ]
    }
  ],
  "metadata": {
    "hide_input": false,
    "kernelspec": {
      "display_name": "Python 3",
      "language": "python",
      "name": "python3"
    },
    "language_info": {
      "codemirror_mode": {
        "name": "ipython",
        "version": 3
      },
      "file_extension": ".py",
      "mimetype": "text/x-python",
      "name": "python",
      "nbconvert_exporter": "python",
      "pygments_lexer": "ipython3",
      "version": "3.10.10"
    },
    "toc": {
      "base_numbering": 1,
      "nav_menu": {},
      "number_sections": true,
      "sideBar": true,
      "skip_h1_title": false,
      "title_cell": "Table of Contents",
      "title_sidebar": "Contents",
      "toc_cell": false,
      "toc_position": {},
      "toc_section_display": true,
      "toc_window_display": false
    },
    "varInspector": {
      "cols": {
        "lenName": 16,
        "lenType": 16,
        "lenVar": 40
      },
      "kernels_config": {
        "python": {
          "delete_cmd_postfix": "",
          "delete_cmd_prefix": "del ",
          "library": "var_list.py",
          "varRefreshCmd": "print(var_dic_list())"
        },
        "r": {
          "delete_cmd_postfix": ") ",
          "delete_cmd_prefix": "rm(",
          "library": "var_list.r",
          "varRefreshCmd": "cat(var_dic_list()) "
        }
      },
      "types_to_exclude": [
        "module",
        "function",
        "builtin_function_or_method",
        "instance",
        "_Feature"
      ],
      "window_display": false
    },
    "colab": {
      "provenance": []
    }
  },
  "nbformat": 4,
  "nbformat_minor": 0
}