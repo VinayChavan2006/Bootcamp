{
  "nbformat": 4,
  "nbformat_minor": 0,
  "metadata": {
    "colab": {
      "provenance": []
    },
    "kernelspec": {
      "name": "python3",
      "display_name": "Python 3"
    }
  },
  "cells": [
    {
      "cell_type": "markdown",
      "metadata": {
        "id": "-NZ9UX4Kvcka"
      },
      "source": [
        "# Loops\n",
        "Agenda \n",
        "- While loops\n",
        "- Break Statements\n",
        "- Continue Statement\n",
        "- For loops"
      ]
    },
    {
      "cell_type": "markdown",
      "metadata": {
        "id": "CUjX-hpXve-J"
      },
      "source": [
        "## While loop\n",
        "- A while statement can be used to make a block of code run again and again.\n",
        "- The block of code that will be executed again and again is called the _while clause_ (same as body of while statement)"
      ]
    },
    {
      "cell_type": "code",
      "metadata": {
        "colab": {
          "base_uri": "https://localhost:8080/"
        },
        "id": "aOyZbp8QhL5N",
        "outputId": "6ff44335-4908-42de-8e40-259ad5baf665"
      },
      "source": [
        "print(1)\n",
        "print(2)\n",
        "print(3)\n",
        "print(4)\n",
        "print(5)"
      ],
      "execution_count": null,
      "outputs": [
        {
          "output_type": "stream",
          "text": [
            "1\n",
            "2\n",
            "3\n"
          ],
          "name": "stdout"
        }
      ]
    },
    {
      "cell_type": "markdown",
      "metadata": {
        "id": "lubYyzZsyV2u"
      },
      "source": [
        "## While"
      ]
    },
    {
      "cell_type": "code",
      "metadata": {
        "id": "jaQtUfVtyzg4",
        "colab": {
          "base_uri": "https://localhost:8080/"
        },
        "outputId": "bc126b9b-2beb-40bb-a35e-3ea10db3914e"
      },
      "source": [
        "## Example while statement\n",
        "count = 0\n",
        "while (count <= 10):\n",
        "  print('count is:',count)\n",
        "  count += 1\n",
        "  if count >= 7:\n",
        "      "
      ],
      "execution_count": null,
      "outputs": [
        {
          "output_type": "stream",
          "text": [
            "count is: 0\n",
            "count is: 1\n",
            "count is: 2\n",
            "count is: 3\n",
            "count is: 4\n",
            "count is: 5\n",
            "count is: 6\n"
          ],
          "name": "stdout"
        }
      ]
    },
    {
      "cell_type": "markdown",
      "metadata": {
        "id": "X7VcJvXw2Kr9"
      },
      "source": [
        "## Break Statements\n",
        "- a technique to exit out of a while loop's clause (body) early\n",
        "- when execution reaches a break statemnt, it immediately exits the while loop's body"
      ]
    },
    {
      "cell_type": "code",
      "metadata": {
        "id": "Q57MthR-1Mmp",
        "colab": {
          "base_uri": "https://localhost:8080/"
        },
        "outputId": "c2929938-4e1b-4e60-a8b7-f1d866801624"
      },
      "source": [
        "password = \"\"\n",
        "\n",
        "while(True):\n",
        "  print('Please type the correct password')\n",
        "  password = input()\n",
        "  if(password == \"$ecretP@$$word\"):\n",
        "    print('Thank you!')\n",
        "    break"
      ],
      "execution_count": null,
      "outputs": [
        {
          "output_type": "stream",
          "text": [
            "Please type the correct password\n",
            "xyzyshf\n",
            "Please type the correct password\n",
            "qwerty\n",
            "Please type the correct password\n",
            "sddfdgdfhb\n",
            "Please type the correct password\n",
            "$ecretP@$$word\n",
            "Thank you!\n"
          ],
          "name": "stdout"
        }
      ]
    },
    {
      "cell_type": "markdown",
      "metadata": {
        "id": "nKm5hQNW4tzK"
      },
      "source": [
        "## Continue Statements\n",
        "- Like break statements, continue statements are used only inside loops\n",
        "- when a program encounters a continue statment, it immediately jumps ahead to the loop condition and re-checks it."
      ]
    },
    {
      "cell_type": "code",
      "metadata": {
        "id": "zUTqxo43262z",
        "colab": {
          "base_uri": "https://localhost:8080/"
        },
        "outputId": "55d84e5e-a8cf-42e1-fa3c-d958dfb3b306"
      },
      "source": [
        "## An advanced password program using continue\n",
        "# checks two things, name and password\n",
        "while(True):\n",
        "  print('What is your name?')\n",
        "  name = input()\n",
        "  if(name != 'Hari'):\n",
        "    continue\n",
        "  print('Hello, Hari. What is the password?')\n",
        "  password = input()\n",
        "  if(password == \"$ecretP@$$word\"):\n",
        "    break\n",
        "print('Access granted!')"
      ],
      "execution_count": null,
      "outputs": [
        {
          "output_type": "stream",
          "text": [
            "What is your name?\n",
            "qwerty\n",
            "What is your name?\n",
            "Hari\n",
            "Hello, Hari. What is the password?\n",
            "$ecretP@$$word\n",
            "Access granted!\n"
          ],
          "name": "stdout"
        }
      ]
    },
    {
      "cell_type": "markdown",
      "metadata": {
        "id": "9-Qlr12LHq3B"
      },
      "source": [
        "# For loops\n",
        "\n",
        "- While loops get executed as long as the _while condition_ evaluates to ```True```\n",
        "- To execute a block of code a certain number of times, we use ```for``` loops\n",
        "- A for statement looks something like - <br>\n",
        "  ```for i in range(4):```\n",
        "  It always includes the following - \n",
        "  - The ```for``` keyword\n",
        "  - A variable name\n",
        "  - The ```in``` keyword\n",
        "  - A call to ```range``` method with upto 3 integers passed to it\n",
        "  - A colon\n",
        "  - Indented block of code starting on the next line - the body of for loop (_for clause_)"
      ]
    },
    {
      "cell_type": "code",
      "metadata": {
        "id": "rhck40p18b0n"
      },
      "source": [
        "# A simple example for counting\n",
        "print('Counting from 0 to 4')\n",
        "\n",
        "for i in range(13): # we go up to but not including 5, by default counting starts from 0\n",
        "  print('Number:',i)\n",
        "\n",
        "## the variable i gets updated in each iteration"
      ],
      "execution_count": null,
      "outputs": []
    },
    {
      "cell_type": "markdown",
      "metadata": {
        "id": "j1ooHV-MIKkU"
      },
      "source": [
        "- The first time the loop is run, the variable ```i``` is set to ```0```\n",
        "- The variable ```i``` goes up to but not including the number passed to ```range```"
      ]
    },
    {
      "cell_type": "code",
      "metadata": {
        "id": "l2NCQ1DWIL7Q",
        "colab": {
          "base_uri": "https://localhost:8080/"
        },
        "outputId": "5c245053-9508-4fda-cf39-6be19dc94d31"
      },
      "source": [
        "# Another example, sum of numbers from 1 to 10 including 10\n",
        "\n",
        "total = 0 ## initialize total to 0\n",
        "limit = 11\n",
        "\n",
        "for num in range(limit):\n",
        "  total += num\n",
        "  print('total:',total,'num:',num)\n",
        "print('The sum of numbers from 1 to 10 is {}'.format(total))"
      ],
      "execution_count": null,
      "outputs": [
        {
          "output_type": "stream",
          "text": [
            "total: 0 num: 0\n",
            "total: 1 num: 1\n",
            "total: 3 num: 2\n",
            "total: 6 num: 3\n",
            "total: 10 num: 4\n",
            "total: 15 num: 5\n",
            "total: 21 num: 6\n",
            "total: 28 num: 7\n",
            "total: 36 num: 8\n",
            "total: 45 num: 9\n",
            "total: 55 num: 10\n",
            "The sum of numbers from 1 to 10 is 55\n"
          ],
          "name": "stdout"
        }
      ]
    },
    {
      "cell_type": "markdown",
      "metadata": {
        "id": "X8xfKASuITnY"
      },
      "source": [
        "### An equivalent while loop"
      ]
    },
    {
      "cell_type": "code",
      "metadata": {
        "id": "g4HAP-caITJP",
        "colab": {
          "base_uri": "https://localhost:8080/"
        },
        "outputId": "d995615c-27a7-444a-cb8b-ae18951b7fdb"
      },
      "source": [
        "## This same program can also be written using a while loop\n",
        "total = 0\n",
        "num = 5\n",
        "limit = -1\n",
        "\n",
        "while(num>limit):\n",
        "  print('total:',total,'num:',num)\n",
        "  total += num\n",
        "  num = num - 1\n",
        "  \n",
        "print('Sum of numbers from 1 to 10 is:',total)"
      ],
      "execution_count": null,
      "outputs": [
        {
          "output_type": "stream",
          "text": [
            "total: 0 num: 5\n",
            "total: 5 num: 4\n",
            "total: 9 num: 3\n",
            "total: 12 num: 2\n",
            "total: 14 num: 1\n",
            "total: 15 num: 0\n",
            "Sum of numbers from 1 to 10 is: 15\n"
          ],
          "name": "stdout"
        }
      ]
    },
    {
      "cell_type": "markdown",
      "metadata": {
        "id": "7qE0_M1EIhRO"
      },
      "source": [
        "### Arguments to range - starting, stopping and stepping\n",
        "- Some functions can accept multiple arguments. ```range``` is one of them.\n",
        "- This allows you to start counting from a number other than ```0```\n",
        "\n",
        "When you pass 2 arguments - \n",
        "- The first argument will be the number where to start\n",
        "- The second argument is the number up to but not including which ```range``` will count"
      ]
    },
    {
      "cell_type": "code",
      "metadata": {
        "id": "JmSKsa99IiUJ",
        "colab": {
          "base_uri": "https://localhost:8080/"
        },
        "outputId": "f432edc1-f4f1-48e5-dc59-99e3ecba49c1"
      },
      "source": [
        "## Eg., add numbers from 10 to 15 including both 10 and 15\n",
        "total = 0\n",
        "for num in range(0,16,2):\n",
        "    total = total + num \n",
        "    print('total:',total,'num:',num)\n",
        "    \n",
        "print(\"End for loop\")\n",
        "print(total)"
      ],
      "execution_count": null,
      "outputs": [
        {
          "output_type": "stream",
          "text": [
            "total: 0 num: 0\n",
            "total: 2 num: 2\n",
            "total: 6 num: 4\n",
            "total: 12 num: 6\n",
            "total: 20 num: 8\n",
            "total: 30 num: 10\n",
            "total: 42 num: 12\n",
            "total: 56 num: 14\n",
            "End for loop\n",
            "56\n"
          ],
          "name": "stdout"
        }
      ]
    },
    {
      "cell_type": "markdown",
      "metadata": {
        "id": "C6VsNxW4IonT"
      },
      "source": [
        "When you pass 3 arguments - \n",
        "- The first argument is the number where ```range``` starts\n",
        "- The second argument is the number up to but not including which ```range``` will count\n",
        "- The third argument is the step argument - the amount by which variable is increased after each iteration"
      ]
    },
    {
      "cell_type": "code",
      "metadata": {
        "id": "g_UMXlSqIpo5"
      },
      "source": [
        "# Add even numbers between 10 and 19\n",
        "total = 0 # initialize total variable which will hold the sum to 0\n",
        "for num in range(10, 20, 2):\n",
        "  total = total + num ## num will take the values 10, 12, 14, 16, 18\n",
        "print(total)"
      ],
      "execution_count": null,
      "outputs": []
    },
    {
      "cell_type": "code",
      "metadata": {
        "id": "ZdYoek-IItjJ",
        "colab": {
          "base_uri": "https://localhost:8080/"
        },
        "outputId": "2afc64c6-2f82-4295-b6be-398bcad06701"
      },
      "source": [
        "# Add multiples of 3 between 1 to 100\n",
        "total = 0\n",
        "for num in range(3, 101, 3):\n",
        "  total = total + num\n",
        "print(total)"
      ],
      "execution_count": null,
      "outputs": [
        {
          "output_type": "stream",
          "text": [
            "1683\n"
          ],
          "name": "stdout"
        }
      ]
    },
    {
      "cell_type": "markdown",
      "metadata": {
        "id": "ZpDtN7eWI87o"
      },
      "source": [
        "### Negative parameters to ```range```"
      ]
    },
    {
      "cell_type": "code",
      "metadata": {
        "id": "h4sxyWV1I9yn"
      },
      "source": [
        "## Count numbers down from 5 to 0\n",
        "\n",
        "for i in range(5, 0, -1): # step size is -1 here because in each iteration i is 1 less than previous\n",
        "  print('Number:',i) # in each iteration i = i - 1"
      ],
      "execution_count": null,
      "outputs": []
    },
    {
      "cell_type": "code",
      "metadata": {
        "id": "R_8DQO0VJC_F"
      },
      "source": [
        "for i in range(5, -1, -2): ## count down but in steps of 2\n",
        "  "
      ],
      "execution_count": null,
      "outputs": []
    },
    {
      "cell_type": "markdown",
      "metadata": {
        "id": "2G5T9EhcYmG9"
      },
      "source": [
        "# Nested For and While loops\n",
        "\n",
        "### They do exist and it is left as a Homework for you to figure out how to do the same"
      ]
    },
    {
      "cell_type": "code",
      "metadata": {
        "id": "FNUS43hdrOs9"
      },
      "source": [
        "for i in range(5): # i--->0 to 4\n",
        "    for j in range(5): # j-->0 to 4\n",
        "        print('i:',i,'j:',j)\n",
        "    print('End for loop for j variable')"
      ],
      "execution_count": null,
      "outputs": []
    }
  ]
}