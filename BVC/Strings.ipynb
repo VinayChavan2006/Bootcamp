{
  "cells": [
    {
      "cell_type": "markdown",
      "metadata": {
        "id": "0svJSD1bSk6j"
      },
      "source": [
        "## Strings"
      ]
    },
    {
      "cell_type": "markdown",
      "metadata": {
        "id": "RgTsTNDDYCTh"
      },
      "source": [
        "- Datatype for storing text data\n",
        "- Similar to list in many ways - concatenation, replication, usage with ```for```, ```in``` and ```not in``` operators, ```len()``` function etc"
      ]
    },
    {
      "cell_type": "code",
      "execution_count": null,
      "metadata": {
        "colab": {
          "base_uri": "https://localhost:8080/"
        },
        "id": "MGojYK93SfOZ",
        "outputId": "d91bed55-6f85-4eba-b429-28831d010167"
      },
      "outputs": [
        {
          "name": "stdout",
          "output_type": "stream",
          "text": [
            "<class 'str'>\n"
          ]
        }
      ],
      "source": [
        "## Example of string\n",
        "my_string = \"Hello World\" # use single/double quotes for representing a piece of text data as a string\n",
        "print(type(my_string))"
      ]
    },
    {
      "cell_type": "markdown",
      "metadata": {
        "id": "3r2nnAnbYc-X"
      },
      "source": [
        "#### Concatenation and replication\n",
        "- Use ```+``` for concatenation and ```*``` for replication"
      ]
    },
    {
      "cell_type": "code",
      "execution_count": null,
      "metadata": {
        "colab": {
          "base_uri": "https://localhost:8080/"
        },
        "id": "DaxHcXo2YnuM",
        "outputId": "aa234658-3cb7-4e4c-d3fe-71715185ade6"
      },
      "outputs": [
        {
          "name": "stdout",
          "output_type": "stream",
          "text": [
            "Hello, WorldHello, World\n"
          ]
        }
      ],
      "source": [
        "### Examples of concatenation and replication\n",
        "str1 = \"Hello, \"\n",
        "str2 = \"World\"\n",
        "#print(str1 + str2 + \" 2021\" + \"!\")\n",
        "\n",
        "print((str1 + str2)*2)"
      ]
    },
    {
      "cell_type": "markdown",
      "metadata": {
        "id": "HuglG68iccRk"
      },
      "source": [
        "#### Raw strings\n",
        "- Place ```r``` before a string to make it a raw string. All escape characters are ignored in a raw string"
      ]
    },
    {
      "cell_type": "code",
      "execution_count": null,
      "metadata": {
        "id": "EihI8Uukca63"
      },
      "outputs": [],
      "source": [
        "## Example of raw strings\n",
        "str_two_sents = \"I have to learn python. \\nI am taking a course.\"\n",
        "#print(str_two_sents)\n",
        "\n",
        "raw_str = r\"I have to learn python. \\nI am taking a course.\"\n",
        "print(raw_str)"
      ]
    },
    {
      "cell_type": "markdown",
      "metadata": {
        "id": "xzIgMIBlcjji"
      },
      "source": [
        "#### Multiline strings\n",
        "- Use triple quotes to create multiline strings"
      ]
    },
    {
      "cell_type": "code",
      "execution_count": null,
      "metadata": {
        "colab": {
          "base_uri": "https://localhost:8080/"
        },
        "id": "U9XCmIHJcnCb",
        "outputId": "d66e6b08-be96-47d7-f41c-14a2767f9d44"
      },
      "outputs": [
        {
          "name": "stdout",
          "output_type": "stream",
          "text": [
            "I have to learn python.\n",
            "I am taking a course. \n"
          ]
        }
      ],
      "source": [
        "### Example of multi-line strings.\n",
        "str_two_sents_multiline = '''I have to learn python.\n",
        "I am taking a course. '''\n",
        "print(str_two_sents_multiline)"
      ]
    },
    {
      "cell_type": "markdown",
      "metadata": {
        "id": "R27-xmzFc-c1"
      },
      "source": [
        "#### Indexing and slicing strings\n",
        "- Same as how you do for lists"
      ]
    },
    {
      "cell_type": "code",
      "execution_count": null,
      "metadata": {
        "colab": {
          "base_uri": "https://localhost:8080/"
        },
        "id": "X0ZYn87yc9XW",
        "outputId": "002d3106-02e5-46b6-be42-0bf6477911db"
      },
      "outputs": [
        {
          "name": "stdout",
          "output_type": "stream",
          "text": [
            "a\n"
          ]
        }
      ],
      "source": [
        "## Examples of indexing and slicing\n",
        "\n",
        "\n",
        "str_1 = \"HelloHari\"\n",
        "\n",
        "## This can be thought of as a list of characters\n",
        "# len(str_1)\n",
        "print(str_1[-3])\n",
        "#print(str_1[6])\n",
        "\n",
        "#print(str_1[-2])"
      ]
    },
    {
      "cell_type": "code",
      "execution_count": null,
      "metadata": {
        "colab": {
          "base_uri": "https://localhost:8080/"
        },
        "id": "rERqrMcrrtiV",
        "outputId": "996cd19e-daf0-450d-92c7-a1f56eec9e6b"
      },
      "outputs": [
        {
          "name": "stdout",
          "output_type": "stream",
          "text": [
            "llo\n",
            "lloHar\n",
            "HelloHar\n",
            "HelloHari\n"
          ]
        }
      ],
      "source": [
        "print(str_1[2:5])\n",
        "print(str_1[2:-1])\n",
        "print(str_1[:-1])\n",
        "print(str_1[:])"
      ]
    },
    {
      "cell_type": "markdown",
      "metadata": {
        "id": "m3eiSFZob1rE"
      },
      "source": [
        "#### ```in``` and ```not in``` operators with strings  "
      ]
    },
    {
      "cell_type": "code",
      "execution_count": null,
      "metadata": {
        "colab": {
          "base_uri": "https://localhost:8080/"
        },
        "id": "v35opXSEsPZT",
        "outputId": "73f8df12-3d65-47ac-f629-6f2a9ed1b06b"
      },
      "outputs": [
        {
          "name": "stdout",
          "output_type": "stream",
          "text": [
            "HelloHari\n",
            "False\n"
          ]
        }
      ],
      "source": [
        "print(str_1)\n",
        "#print('r' in str_1)\n",
        "print('x' in str_1)"
      ]
    },
    {
      "cell_type": "code",
      "execution_count": null,
      "metadata": {
        "colab": {
          "base_uri": "https://localhost:8080/"
        },
        "id": "bgJIDfk-sdjk",
        "outputId": "fde61aa0-47c8-48b7-d006-b4f2d57b3646"
      },
      "outputs": [
        {
          "name": "stdout",
          "output_type": "stream",
          "text": [
            "True\n",
            "False\n"
          ]
        }
      ],
      "source": [
        "print('Hari' in str_1)\n",
        "print('hari' in str_1)"
      ]
    },
    {
      "cell_type": "markdown",
      "metadata": {
        "id": "Zzrywu2Pd6ya"
      },
      "source": [
        "#### Commonly used String methods\n",
        "- ```upper```, ```lower```, ```isupper```, ```islower``` methods\n",
        "- These methods do not change the string itself and instead return a new value"
      ]
    },
    {
      "cell_type": "code",
      "execution_count": null,
      "metadata": {
        "colab": {
          "base_uri": "https://localhost:8080/"
        },
        "id": "L7snfBtcd_Kh",
        "outputId": "e3749c5b-9bd8-4c54-c0fb-2d5f1374f7fb"
      },
      "outputs": [
        {
          "name": "stdout",
          "output_type": "stream",
          "text": [
            "HELLOHARI\n"
          ]
        }
      ],
      "source": [
        "## Examples of upper and lower\n",
        "# print(str_1.upper())\n",
        "# print(str_1)\n",
        "# print(str_1.lower())\n",
        "\n",
        "str_1 = str_1.upper()\n",
        "print(str_1)"
      ]
    },
    {
      "cell_type": "markdown",
      "metadata": {
        "id": "kB2bjy5teq1O"
      },
      "source": [
        "- ```isupper``` and ```islower``` return ```True``` if there is atleast one alphabet in a string and if all of the alphabets present are upper or lower respectively. It returns ```False``` otherwise"
      ]
    },
    {
      "cell_type": "code",
      "execution_count": 2,
      "metadata": {},
      "outputs": [],
      "source": [
        "str_1 = 'HelloHari'"
      ]
    },
    {
      "cell_type": "code",
      "execution_count": 4,
      "metadata": {
        "colab": {
          "base_uri": "https://localhost:8080/"
        },
        "id": "BZv5bORqe59y",
        "outputId": "be074b08-a9d2-41a6-f6f8-c794e1e20452"
      },
      "outputs": [
        {
          "name": "stdout",
          "output_type": "stream",
          "text": [
            "False\n"
          ]
        }
      ],
      "source": [
        "### Examples of isupper and islower\n",
        "#print(str_1.isupper())\n",
        "print(str_1.islower())\n",
        "#print('999'.isupper())"
      ]
    },
    {
      "cell_type": "markdown",
      "metadata": {
        "id": "Sqlep7H5e93l"
      },
      "source": [
        "- ```startswith``` and ```endswith``` methods\n",
        "- useful for comparison other than ```==```"
      ]
    },
    {
      "cell_type": "code",
      "execution_count": null,
      "metadata": {
        "colab": {
          "base_uri": "https://localhost:8080/"
        },
        "id": "pAkQ-rNgfbXQ",
        "outputId": "dea82ac4-bd96-4d20-b673-26ddc8a06a4f"
      },
      "outputs": [
        {
          "name": "stdout",
          "output_type": "stream",
          "text": [
            "HELLOHARI\n",
            "True\n",
            "True\n",
            "False\n"
          ]
        }
      ],
      "source": [
        "#### Examples of startswith and endswith\n",
        "print(str_1)\n",
        "print(str_1.startswith('HELLO'))\n",
        "print(str_1.endswith('HARI'))\n",
        "print(str_1.endswith('XYZ'))\n",
        "## state of a registered vehicle based on license plate"
      ]
    },
    {
      "cell_type": "markdown",
      "metadata": {
        "id": "nTO24negfZe6"
      },
      "source": [
        "- ```join``` and ```split```\n",
        "- ```join``` is called on a string, gets passed a list of strings and returns a string"
      ]
    },
    {
      "cell_type": "code",
      "execution_count": null,
      "metadata": {
        "colab": {
          "base_uri": "https://localhost:8080/",
          "height": 35
        },
        "id": "cH4-3rzIfN7y",
        "outputId": "1c2a96ce-db7c-4416-8f07-965f98a16a0d"
      },
      "outputs": [
        {
          "data": {
            "application/vnd.google.colaboratory.intrinsic+json": {
              "type": "string"
            },
            "text/plain": [
              "'Hari,Madhav,Ram,Shyam'"
            ]
          },
          "execution_count": 42,
          "metadata": {
            "tags": []
          },
          "output_type": "execute_result"
        }
      ],
      "source": [
        "### Example of using join \n",
        "s = ','.join(['Hari', 'Madhav', 'Ram', 'Shyam'])\n",
        "s"
      ]
    },
    {
      "cell_type": "markdown",
      "metadata": {
        "id": "V6stjeblfxwf"
      },
      "source": [
        "- ```split``` is called on a string, gets passed a string and returns a list of strings"
      ]
    },
    {
      "cell_type": "code",
      "execution_count": 6,
      "metadata": {
        "colab": {
          "base_uri": "https://localhost:8080/"
        },
        "id": "Yi93UXpvf3E0",
        "outputId": "70934335-42bd-4837-98b8-85f6e6258f0b"
      },
      "outputs": [
        {
          "name": "stdout",
          "output_type": "stream",
          "text": [
            "['Hari,', 'Madhav,Ram,Shyam']\n"
          ]
        }
      ],
      "source": [
        "### Example of using split\n",
        "names_str = \"Hari, Madhav,Ram,Shyam\"\n",
        "names_list = names_str.split()\n",
        "print(names_list)"
      ]
    },
    {
      "cell_type": "code",
      "execution_count": 7,
      "metadata": {
        "colab": {
          "base_uri": "https://localhost:8080/"
        },
        "id": "Gjt6qAVLvURI",
        "outputId": "8bfd4e8b-2150-470b-f940-e08ae96b81a7"
      },
      "outputs": [
        {
          "name": "stdout",
          "output_type": "stream",
          "text": [
            "['Hari', 'Madhav', 'Ram', 'Shyam']\n"
          ]
        }
      ],
      "source": [
        "names_str = \"Hari Madhav Ram Shyam\"\n",
        "names_list = names_str.split(' ')\n",
        "print(names_list)"
      ]
    }
  ],
  "metadata": {
    "colab": {
      "provenance": []
    },
    "kernelspec": {
      "display_name": "Python 3",
      "name": "python3"
    },
    "language_info": {
      "codemirror_mode": {
        "name": "ipython",
        "version": 3
      },
      "file_extension": ".py",
      "mimetype": "text/x-python",
      "name": "python",
      "nbconvert_exporter": "python",
      "pygments_lexer": "ipython3",
      "version": "3.11.4"
    }
  },
  "nbformat": 4,
  "nbformat_minor": 0
}
