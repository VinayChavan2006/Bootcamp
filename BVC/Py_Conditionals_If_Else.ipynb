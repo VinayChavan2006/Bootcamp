{
  "cells": [
    {
      "cell_type": "markdown",
      "metadata": {
        "id": "tWwR47stoEoE"
      },
      "source": [
        "# AGENDA\n",
        "- If Statement\n",
        "- Else Statement\n",
        "- Elif Statement\n",
        "- Nested If Statement\n"
      ]
    },
    {
      "cell_type": "markdown",
      "metadata": {
        "id": "sNdjuMFD2raf"
      },
      "source": [
        "# If Statements\n",
        "- Controlflow diagram of If-statements in Python"
      ]
    },
    {
      "cell_type": "markdown",
      "metadata": {
        "id": "BM5IBSZG6mkQ"
      },
      "source": [
        "- Program checks if the test expression/condition is True or False.\n",
        "- If True, it will execute the indented statements\n",
        "- If False, it will skip the indented statements without executing them."
      ]
    },
    {
      "cell_type": "code",
      "execution_count": 4,
      "metadata": {
        "colab": {
          "base_uri": "https://localhost:8080/"
        },
        "id": "QfJA3dlIof4G",
        "outputId": "5abf7ccd-c66f-427a-fa51-eadb1d9736b1"
      },
      "outputs": [
        {
          "name": "stdout",
          "output_type": "stream",
          "text": [
            "Hey Gauranga\n"
          ]
        }
      ],
      "source": [
        "# Example (Is your name correct?)\n",
        "\n",
        "age =24\n",
        "\n",
        "if age>20:\n",
        "    print('Hey Gauranga')\n",
        "    "
      ]
    },
    {
      "cell_type": "code",
      "execution_count": null,
      "metadata": {},
      "outputs": [],
      "source": [
        "age"
      ]
    },
    {
      "cell_type": "code",
      "execution_count": 10,
      "metadata": {},
      "outputs": [
        {
          "name": "stdout",
          "output_type": "stream",
          "text": [
            "gaurang's age is 20\n"
          ]
        }
      ],
      "source": [
        "print(\"gaurang's age is 20\")"
      ]
    },
    {
      "cell_type": "code",
      "execution_count": 12,
      "metadata": {},
      "outputs": [
        {
          "name": "stdout",
          "output_type": "stream",
          "text": [
            "MY name is chirayush \n",
            "      mohanty\n"
          ]
        }
      ],
      "source": [
        "print('''MY name is chirayush \n",
        "      mohanty''')"
      ]
    },
    {
      "cell_type": "markdown",
      "metadata": {
        "id": "htkImEMC7Ae3"
      },
      "source": [
        "# Else Statements\n",
        "- Controlflow diagram of If-Else statements in Python"
      ]
    },
    {
      "cell_type": "code",
      "execution_count": null,
      "metadata": {},
      "outputs": [],
      "source": []
    },
    {
      "cell_type": "markdown",
      "metadata": {
        "id": "v0olxXY47OJJ"
      },
      "source": [
        "\n",
        "\n",
        "<img src=\"https://drive.google.com/uc?id=0BwNkduBnePt2dWFId3BsWjQwZEU\" alt=\"Drawing\" style=\"width: 200px;\"/>"
      ]
    },
    {
      "cell_type": "code",
      "execution_count": 11,
      "metadata": {
        "colab": {
          "base_uri": "https://localhost:8080/"
        },
        "id": "fXBtfwu95gsJ",
        "outputId": "821955bf-e1ea-4ff8-9114-340267a14a94"
      },
      "outputs": [
        {
          "name": "stdout",
          "output_type": "stream",
          "text": [
            "Go ahead\n"
          ]
        }
      ],
      "source": [
        "# Example (Is it raining?)\n",
        "\n",
        "raining =   False\n",
        "\n",
        "if raining == True:\n",
        "    print('Take an umbrella')\n",
        "else:\n",
        "    print('Go ahead')\n"
      ]
    },
    {
      "cell_type": "markdown",
      "metadata": {
        "id": "D7fACC6083yR"
      },
      "source": [
        "# Elif Statements\n",
        "- Controlflow diagram of Elif statements in Python"
      ]
    },
    {
      "cell_type": "markdown",
      "metadata": {
        "id": "rkKz1yxh-XJi"
      },
      "source": [
        "\n",
        "\n",
        "<img src=\"https://drive.google.com/uc?id=0BwNkduBnePt2dTBMSXMzdHZkam8\" alt=\"Drawing\" style=\"width: 200px;\"/>"
      ]
    },
    {
      "cell_type": "code",
      "execution_count": 12,
      "metadata": {
        "colab": {
          "base_uri": "https://localhost:8080/"
        },
        "id": "wgumIUcz-Etm",
        "outputId": "8d7cae68-7cc9-4a9b-9fa1-a1d947779971"
      },
      "outputs": [
        {
          "name": "stdout",
          "output_type": "stream",
          "text": [
            "Thats incredible\n",
            "Hi end\n"
          ]
        }
      ],
      "source": [
        "#Example (name, age)\n",
        "\n",
        "name = 'Nitai'\n",
        "age = 60\n",
        "\n",
        "if name == 'Gauranga':\n",
        "    print('You are not Nitai')\n",
        "elif age < 20:\n",
        "    print('Thats too young')\n",
        "elif age == 60:\n",
        "    print('Thats incredible')\n",
        "else:\n",
        "    print('.')\n",
        "print('Hi',end=\" \")\n",
        "print('end')"
      ]
    },
    {
      "cell_type": "markdown",
      "metadata": {
        "id": "rQkwr3PqBxJ9"
      },
      "source": [
        "# Nested if Statements"
      ]
    },
    {
      "cell_type": "code",
      "execution_count": 4,
      "metadata": {
        "colab": {
          "base_uri": "https://localhost:8080/"
        },
        "id": "qOlgmJyKAUGI",
        "outputId": "7504475b-0a43-4135-b0c9-c0624ab9a1e2"
      },
      "outputs": [
        {
          "name": "stdout",
          "output_type": "stream",
          "text": [
            "Yes\n"
          ]
        }
      ],
      "source": [
        "#Example (finding whether a number is +ve or -ve)\n",
        "\n",
        "num = -10\n",
        "if num >= 0: # Non negative numbers\n",
        "    if num == 0:\n",
        "        print('zero')\n",
        "    else:\n",
        "        print('positive')\n",
        "elif num==-10:\n",
        "    print('Yes')\n",
        "else:\n",
        "    print('negative')"
      ]
    },
    {
      "cell_type": "code",
      "execution_count": 13,
      "metadata": {
        "colab": {
          "base_uri": "https://localhost:8080/"
        },
        "id": "iyDf3MNMCh0h",
        "outputId": "4073a7c7-9286-450f-b41c-c27c0ceff8c9"
      },
      "outputs": [
        {
          "data": {
            "text/plain": [
              "True"
            ]
          },
          "execution_count": 13,
          "metadata": {},
          "output_type": "execute_result"
        }
      ],
      "source": [
        "'b'>'a'"
      ]
    }
  ],
  "metadata": {
    "colab": {
      "provenance": []
    },
    "kernelspec": {
      "display_name": "Python 3",
      "language": "python",
      "name": "python3"
    },
    "language_info": {
      "codemirror_mode": {
        "name": "ipython",
        "version": 3
      },
      "file_extension": ".py",
      "mimetype": "text/x-python",
      "name": "python",
      "nbconvert_exporter": "python",
      "pygments_lexer": "ipython3",
      "version": "3.11.4"
    },
    "vscode": {
      "interpreter": {
        "hash": "11c65874f316631da81701a7ffde396d24d5d1b72acdc974c7a77cc83810f399"
      }
    }
  },
  "nbformat": 4,
  "nbformat_minor": 0
}
