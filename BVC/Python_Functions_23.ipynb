{
  "nbformat": 4,
  "nbformat_minor": 0,
  "metadata": {
    "colab": {
      "provenance": []
    },
    "kernelspec": {
      "name": "python3",
      "display_name": "Python 3"
    }
  },
  "cells": [
    {
      "cell_type": "markdown",
      "metadata": {
        "id": "i0FzEzhCnRxZ"
      },
      "source": [
        "# Functions in Python\n",
        "\n",
        "- Function is a block of code that performs a specific task.\n",
        "- It makes code reusable, avoids writing duplicate code.\n"
      ]
    },
    {
      "cell_type": "markdown",
      "metadata": {
        "id": "exWIJE9JoLvw"
      },
      "source": [
        "# Syntax of a Function\n",
        "\n",
        "![function_machine_fx.png](data:image/png;base64,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)\n",
        "\n",
        "def function_name(input_parameters):\n",
        "\n",
        "&nbsp;&nbsp;&nbsp;&nbsp;&nbsp;&nbsp;\"&nbsp;\"&nbsp;\"<br>\n",
        "&nbsp;&nbsp;&nbsp;&nbsp;&nbsp;&nbsp;Describe about the function<br>\n",
        "&nbsp;&nbsp;&nbsp;&nbsp;&nbsp;&nbsp;\"&nbsp;\"&nbsp;\"\n",
        "<br>\n",
        "<br>\n",
        "&nbsp;&nbsp;&nbsp;&nbsp;&nbsp;&nbsp;Statements\n",
        "\n"
      ]
    },
    {
      "cell_type": "code",
      "metadata": {
        "id": "-ygzgFP0nS4p"
      },
      "source": [
        "#Example\n",
        "\n",
        "def greetings(name):\n",
        "    \"\"\"\n",
        "    Greet Good Morning to the user (This is a doc-string)\n",
        "    \"\"\"\n",
        "    print('Good Morning ' + str(name))"
      ],
      "execution_count": null,
      "outputs": []
    },
    {
      "cell_type": "markdown",
      "metadata": {
        "id": "pWcebDO4qi0S"
      },
      "source": [
        "\n",
        "- IMP: This function has no return statement\n",
        "- Every function has a return value. If there is no return statement, then the return value is none."
      ]
    },
    {
      "cell_type": "code",
      "metadata": {
        "id": "die_4wzUpnS6",
        "colab": {
          "base_uri": "https://localhost:8080/"
        },
        "outputId": "b4ef23f2-72ed-4ebc-8373-5ae2e2ab084e"
      },
      "source": [
        "# Function Call\n",
        "person = 'Madhava'\n",
        "greetings(person)"
      ],
      "execution_count": null,
      "outputs": [
        {
          "output_type": "stream",
          "text": [
            "Good Morning Madhava\n"
          ],
          "name": "stdout"
        }
      ]
    },
    {
      "cell_type": "markdown",
      "metadata": {
        "id": "5Gv9nAR7ruhg"
      },
      "source": [
        "# Doc String\n",
        "- A documentation string after the first function header."
      ]
    },
    {
      "cell_type": "code",
      "metadata": {
        "id": "3VjBDUB8p9e2",
        "colab": {
          "base_uri": "https://localhost:8080/"
        },
        "outputId": "486284b6-0304-4b0e-9d04-ce69d43c4cdd"
      },
      "source": [
        "print(greetings.__doc__)"
      ],
      "execution_count": null,
      "outputs": [
        {
          "output_type": "stream",
          "text": [
            "\n",
            "    Greet Good Morning to the user (This is a doc-string)\n",
            "    \n"
          ],
          "name": "stdout"
        }
      ]
    },
    {
      "cell_type": "markdown",
      "metadata": {
        "id": "YsN88SC0sIo4"
      },
      "source": [
        "# Functions with Return Statement\n",
        "- Exit a function and return to the calling position.\n",
        "- <strong>return (expression)</strong>"
      ]
    },
    {
      "cell_type": "code",
      "metadata": {
        "id": "T52CZ8xer-0I"
      },
      "source": [
        "def pow(num1,num2):\n",
        "    '''\n",
        "    Finding the square of a number\n",
        "    '''\n",
        "    w = num1 ** num2\n",
        "    num1 = 50\n",
        "    return w"
      ],
      "execution_count": null,
      "outputs": []
    },
    {
      "cell_type": "code",
      "metadata": {
        "id": "vcMVKB_Evl75"
      },
      "source": [
        "num1 = 10\n",
        "num2 = 3\n",
        "answer = pow(num1,num2)\n",
        "print(num1)"
      ],
      "execution_count": null,
      "outputs": []
    },
    {
      "cell_type": "code",
      "metadata": {
        "id": "z0lVHKfptcTw",
        "colab": {
          "base_uri": "https://localhost:8080/"
        },
        "outputId": "580c163e-59f8-4b16-943a-b61ba1ad2804"
      },
      "source": [
        "# Lets again observe the doc string of this function\n",
        "print(pow.__doc__)"
      ],
      "execution_count": null,
      "outputs": [
        {
          "output_type": "stream",
          "text": [
            "\n",
            "    Finding the square of a number\n",
            "    \n"
          ],
          "name": "stdout"
        }
      ]
    },
    {
      "cell_type": "markdown",
      "source": [
        "More about return\n",
        "\n",
        "*   If a function does not have a return statement, so it returns None by default.\n",
        "*   You can also use return without a value to exit a function early\n",
        "\n"
      ],
      "metadata": {
        "id": "KO0tafXTufd-"
      }
    },
    {
      "cell_type": "code",
      "source": [
        "def is_positive(number):\n",
        "    if number > 0:\n",
        "        return True\n",
        "    else:\n",
        "        return False #we can write some other further code\n",
        "\n",
        "# Calling the function\n",
        "result = is_positive(5)\n",
        "print(result)\n"
      ],
      "metadata": {
        "id": "9Xrn164bvLi4"
      },
      "execution_count": null,
      "outputs": []
    },
    {
      "cell_type": "markdown",
      "metadata": {
        "id": "zBoaFzyKzJPE"
      },
      "source": [
        "# Working of a function"
      ]
    },
    {
      "cell_type": "markdown",
      "metadata": {
        "id": "gSqjFH7yyest"
      },
      "source": [
        "\n",
        "<img src=\"https://drive.google.com/uc?id=1N5dWKlQo3NNg5ojqQCEIlUKOnR8reZI1\" alt=\"Drawing\" width=\"300\"/>"
      ]
    },
    {
      "cell_type": "markdown",
      "metadata": {
        "id": "p5S8dPOjzkH5"
      },
      "source": [
        "# Global and local scope\n",
        "WHAT IS SCOPE?<br>\n",
        "- An area of the source code or a container of variables.\n",
        "- Global Scope - Code outside of all functions\n",
        "- Code in a global scope cannot use local variables.\n",
        "- Global variable can be accessed in a local scope.\n",
        "- Code in one local scope cannot use variables in another local scope."
      ]
    },
    {
      "cell_type": "markdown",
      "source": [
        "Local Variables:\n",
        "\n",
        "Local variables are declared inside a function and are only accessible within that function.\n",
        "They are created when the function is called and destroyed when the function exits."
      ],
      "metadata": {
        "id": "g-xq2lwVvir7"
      }
    },
    {
      "cell_type": "code",
      "source": [
        "def example_function():\n",
        "    # This is a local variable\n",
        "    local_var = \"I am local\"\n",
        "\n",
        "# Trying to access local_var here would result in an error\n",
        "print(local_var)"
      ],
      "metadata": {
        "id": "qz3FPe6fvljD"
      },
      "execution_count": null,
      "outputs": []
    },
    {
      "cell_type": "markdown",
      "source": [
        "Global Variables:\n",
        "\n",
        "Global variables are defined outside of any function or block of code.\n",
        "They can be accessed from any part of the code, both inside and outside functions"
      ],
      "metadata": {
        "id": "6jrxAaGevtkF"
      }
    },
    {
      "cell_type": "code",
      "source": [
        "# This is a global variable\n",
        "global_var = \"I am global\"\n",
        "\n",
        "def example_function():\n",
        "    # You can access global variables inside a function\n",
        "    print(global_var)\n",
        "\n",
        "# Calling the function\n",
        "example_function()\n"
      ],
      "metadata": {
        "id": "vDxZA3RXvs65"
      },
      "execution_count": null,
      "outputs": []
    },
    {
      "cell_type": "code",
      "metadata": {
        "id": "D7V01wx9ubJ2",
        "colab": {
          "base_uri": "https://localhost:8080/"
        },
        "outputId": "9d6c53f8-36f6-4bce-f008-8480bfe4bfeb"
      },
      "source": [
        "global_var = \"This is a Global Variable\"\n",
        "\n",
        "def check_scope():\n",
        "    '''\n",
        "    Checking variable scope\n",
        "    '''\n",
        "    global local_var\n",
        "    local_var = \"This is a local variable\"\n",
        "    print(global_var)\n",
        "    print(local_var)\n",
        "\n",
        "check_scope()\n",
        "print(global_var)\n",
        "print(local_var)\n",
        "# use global to make a local variable global"
      ],
      "execution_count": null,
      "outputs": [
        {
          "output_type": "stream",
          "text": [
            "This is a Global Variable\n",
            "This is a local variable\n"
          ],
          "name": "stdout"
        }
      ]
    },
    {
      "cell_type": "code",
      "metadata": {
        "id": "-9VjBqgM5McP"
      },
      "source": [],
      "execution_count": null,
      "outputs": []
    }
  ]
}