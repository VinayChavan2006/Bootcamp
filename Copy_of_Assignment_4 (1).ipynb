{
  "cells": [
    {
      "cell_type": "markdown",
      "metadata": {
        "id": "IVpRgpSvea53"
      },
      "source": [
        "\n",
        "## Drill 0: Fibonacci Sequence (25 points)\n",
        "\n",
        "A Fibonacci sequence is the integer sequence of $0, 1, 1, 2, 3, 5, 8, 13, 21, ...$\n",
        "\n",
        "The first two terms are $0$ and $1$. All other terms are obtained by adding the preceding two terms. This means to say the $n^{th}$ term is the sum of $(n-1)^{th}$ and $(n-2)^{th}$ term.\n",
        "\n",
        "Mathematically, if $f(n)$ denotes the $n^{th}$ term of the Fibonacci Sequence then\n",
        "\n",
        "$$\n",
        "f(n) = f(n-1) + f(n-2) \\\\\n",
        "f(1) = 0\\\\\n",
        "f(2) = 1\n",
        "$$\n",
        "\n",
        "Write a function `fibonacci` which takes in a **user input**  parameter `n` and calculates, prints and returns the value of the $n^{th}$ term of the Fibonacci Sequence using **while loop** i.e., $f(n)$\n",
        "\n",
        "Eg-1: if $n = 6$, then the output must be $5$\n",
        "\n",
        "Eg-2: if $n = 8$, then the output must be $13$\n",
        "\n",
        "Eg-3: if $n = 10$, then the output must be $34$\n",
        "\n"
      ]
    },
    {
      "cell_type": "code",
      "execution_count": 34,
      "metadata": {
        "id": "P75TErE7aEau"
      },
      "outputs": [
        {
          "name": "stdout",
          "output_type": "stream",
          "text": [
            "34\n"
          ]
        }
      ],
      "source": [
        "#### Write your code here\n",
        "def f(n):\n",
        "    n1=0\n",
        "    n2=1\n",
        "    while(n!=2):\n",
        "        nth_num=n1+n2\n",
        "        n1=n2\n",
        "        n2=nth_num\n",
        "        n=n-1\n",
        "    return(nth_num)\n",
        "n=int(input())\n",
        "print(f(n))"
      ]
    },
    {
      "cell_type": "markdown",
      "metadata": {
        "id": "Hm0OIf-JaeY5"
      },
      "source": [
        "## Drill 1: Pattern Printing (25 points)\n",
        "\n",
        "Write a program which accepts an input `n` from the user and prints the following **pattern** (see the given examples for proper understanding) using **for loop**\n",
        "\n",
        "Eg-1: if `n=3` the output will be as follows\n",
        "\n",
        "```\n",
        "  1\n",
        " 2 2\n",
        "3 3 3\n",
        "```\n",
        "\n",
        "\n",
        "Eg-2: if `n=5` the output will be as follows\n",
        "\n",
        "```\n",
        "      1\n",
        "     2 2\n",
        "    3 3 3\n",
        "   4 4 4 4\n",
        "  5 5 5 5 5\n",
        "```\n",
        "\n",
        "\n",
        "Eg-3: if `n=7` the output will be as follows\n",
        "\n",
        "```\n",
        "      1\n",
        "     2 2\n",
        "    3 3 3\n",
        "   4 4 4 4\n",
        "  5 5 5 5 5\n",
        " 6 6 6 6 6 6\n",
        "7 7 7 7 7 7 7\n",
        "```\n"
      ]
    },
    {
      "cell_type": "code",
      "execution_count": 35,
      "metadata": {
        "id": "S53De8FuamaA"
      },
      "outputs": [
        {
          "name": "stdout",
          "output_type": "stream",
          "text": [
            "        1 \n",
            "       2 2 \n",
            "      3 3 3 \n",
            "     4 4 4 4 \n",
            "    5 5 5 5 5 \n",
            "   6 6 6 6 6 6 \n",
            "  7 7 7 7 7 7 7 \n",
            " 8 8 8 8 8 8 8 8 \n",
            "9 9 9 9 9 9 9 9 9 \n"
          ]
        }
      ],
      "source": [
        "#### Write your code here\n",
        "n=int(input())\n",
        "for i in range(1,n+1):\n",
        "    for j in range(1,n-i+1):\n",
        "        print(' ',end='')\n",
        "    for k in range(n-i+1,n+1):\n",
        "        print(i,end=' ')\n",
        "    print()\n"
      ]
    },
    {
      "cell_type": "markdown",
      "metadata": {
        "id": "2hX0xXWPaMOg"
      },
      "source": [
        "# Drill 2: Sorting (15 Points)\n",
        "\n",
        "Ask the user to enter a list containing only integer and float datatype and write a program **from scratch** to sort the list in ascending order and print the sorted list\n",
        "\n",
        "Eg: If the user entered the following list $[1,6.7,3.4,4.2,0]$, then the sorted list must be $[0,1,3.4,4.2,6.7]$\n"
      ]
    },
    {
      "cell_type": "code",
      "execution_count": 23,
      "metadata": {
        "id": "NStJlgl62Kp8"
      },
      "outputs": [
        {
          "name": "stdout",
          "output_type": "stream",
          "text": [
            "[1.0, 6.7, 3.4, 4.2, 0.0]\n",
            "[0.0, 1.0, 3.4, 4.2, 6.7]\n"
          ]
        }
      ],
      "source": [
        "#### Write your code here\n",
        "n=int(input(\"Enter no. of elements\"))\n",
        "\n",
        "l=[]\n",
        "for i in range(n):\n",
        "    num=float(input())\n",
        "    l.append(num)\n",
        "\n",
        "for i in range(n):\n",
        "    for j in range(i+1,n):\n",
        "        if(l[i]>l[j]):\n",
        "            temp=l[i]\n",
        "            l[i]=l[j]\n",
        "            l[j]=temp\n",
        "print(l)"
      ]
    },
    {
      "cell_type": "markdown",
      "metadata": {
        "id": "uNeKmsSLa5pD"
      },
      "source": [
        "# Drill 3: Sorting (5 Points)\n",
        "\n",
        "Ask the user to enter a list containing only integer and float datatype and write a program to sort the list in ascending order and print the sorted list using **python's inbuilt function sort** (google it)\n",
        "\n",
        "Eg: If the user entered the following list $[1,6.7,3.4,4.2,0]$, then the sorted list must be $[0,1,3.4,4.2,6.7]$"
      ]
    },
    {
      "cell_type": "code",
      "execution_count": 26,
      "metadata": {
        "id": "zC95-hKhbbii"
      },
      "outputs": [
        {
          "name": "stdout",
          "output_type": "stream",
          "text": [
            "[0.0, 1.0, 3.4, 4.2, 6.7]\n"
          ]
        }
      ],
      "source": [
        "#### Write your code here\n",
        "n=int(input(\"Enter no. of elements\"))\n",
        "\n",
        "l=[]\n",
        "for i in range(n):\n",
        "    num=float(input())\n",
        "    l.append(num)\n",
        "l.sort()\n",
        "print(l)"
      ]
    },
    {
      "cell_type": "markdown",
      "metadata": {
        "id": "BvfzpSSObcO6"
      },
      "source": [
        "#Drill 4: Matrix multiplication (30 Points)\n",
        "\n",
        "Define a function `prod_matrix` which takes in two **2D list** or 2 matrices (**m1**, **m2**) as an input parameter, prints and returns a matrix **m** which stores the product of both the matrices (**m1** and **m2**)\n",
        "\n",
        "`Note`: The size of the matrix **m1** must be $a \\times b$ and the size of the matrix **m2** must be $b \\times c$. Therefore the size of the matrix **m** must be $a \\times c$\n",
        "\n",
        "So, the first step is to ask the user to input the values of $a$, $b$ and $c$ and after that ask the user to enter the values of **m1** and **m2**\n",
        "\n",
        "**Hint**: In case you find yourself stuck in storing the user defined matrix **m1** and **m2**, then you can follow [this](https://www.geeksforgeeks.org/take-matrix-input-from-user-in-python/) link to proceed further\n"
      ]
    },
    {
      "cell_type": "code",
      "execution_count": 33,
      "metadata": {
        "id": "c1p6bzmTbr3W"
      },
      "outputs": [
        {
          "name": "stdout",
          "output_type": "stream",
          "text": [
            "[[29, -2], [24, 10]]\n"
          ]
        }
      ],
      "source": [
        "#### Write your code here\n",
        "a=int(input('enter a:'));b=int(input('enter b:'));c=int(input('enter c:'))\n",
        "m1=[]\n",
        "for i in range(a):\n",
        "    mat=[]\n",
        "    for j in range(b):\n",
        "        mat.append(int(input()))\n",
        "    m1.append(mat)\n",
        "m2=[]\n",
        "for i in range(b):\n",
        "    mat=[]\n",
        "    for j in range(c):\n",
        "        mat.append(int(input()))\n",
        "    m2.append(mat)\n",
        "    \n",
        "m=[]\n",
        "for i in range(a):\n",
        "    mat=[]\n",
        "    for j in range(c):\n",
        "        mat.append(0)\n",
        "    m.append(mat)\n",
        "for i in range(a):\n",
        "    for j in range(c):\n",
        "        for k in range(b):\n",
        "            m[i][j]=m[i][j]+m1[i][k]*m2[k][j]\n",
        "print(m)\n"
      ]
    }
  ],
  "metadata": {
    "colab": {
      "provenance": []
    },
    "kernelspec": {
      "display_name": "Python 3",
      "name": "python3"
    },
    "language_info": {
      "codemirror_mode": {
        "name": "ipython",
        "version": 3
      },
      "file_extension": ".py",
      "mimetype": "text/x-python",
      "name": "python",
      "nbconvert_exporter": "python",
      "pygments_lexer": "ipython3",
      "version": "3.11.4"
    }
  },
  "nbformat": 4,
  "nbformat_minor": 0
}
