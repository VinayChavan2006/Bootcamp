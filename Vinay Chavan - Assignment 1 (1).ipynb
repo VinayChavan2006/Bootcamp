{
 "cells": [
  {
   "cell_type": "markdown",
   "metadata": {},
   "source": [
    "# Exercise 1 (10 points)\n",
    "Create a variable `savings` and give it value 200"
   ]
  },
  {
   "cell_type": "code",
   "execution_count": 52,
   "metadata": {},
   "outputs": [],
   "source": [
    "# Your answer goes here\n",
    "savings=200"
   ]
  },
  {
   "cell_type": "markdown",
   "metadata": {},
   "source": [
    "Create a variable `factor` and assign it value 1.1"
   ]
  },
  {
   "cell_type": "code",
   "execution_count": 53,
   "metadata": {},
   "outputs": [],
   "source": [
    "# Your answer goes here\n",
    "factor=1.1"
   ]
  },
  {
   "cell_type": "markdown",
   "metadata": {},
   "source": [
    "Calculate `balance`:"
   ]
  },
  {
   "cell_type": "code",
   "execution_count": 54,
   "metadata": {},
   "outputs": [],
   "source": [
    "# Your answer goes here\n",
    "time=5\n",
    "balance=savings*factor*time"
   ]
  },
  {
   "cell_type": "markdown",
   "metadata": {},
   "source": [
    "Now print a statement that says something like \"Your account balance after 5 years would be: $xxx\" and use the value of `balance` to populate xxx:"
   ]
  },
  {
   "cell_type": "code",
   "execution_count": 55,
   "metadata": {},
   "outputs": [
    {
     "name": "stdout",
     "output_type": "stream",
     "text": [
      "Your account balance after 5 years would be:$ 1100.0000000000002\n"
     ]
    }
   ],
   "source": [
    "# Your answer goes here\n",
    "print(\"Your account balance after 5 years would be:$\",balance)"
   ]
  },
  {
   "cell_type": "markdown",
   "metadata": {},
   "source": [
    "Let's make two modifications to this:\n",
    "* use `sep = ''` in print function to avoid the extra space between dollar sign and balance value.\n",
    "* use `round()` function to round to two decimals\n",
    "\n",
    "Note: Use `round` in a new cell to get help from the `help` function."
   ]
  },
  {
   "cell_type": "code",
   "execution_count": 56,
   "metadata": {},
   "outputs": [
    {
     "name": "stdout",
     "output_type": "stream",
     "text": [
      "Your account balance after 5 years would be:$1100.0000000000002\n"
     ]
    }
   ],
   "source": [
    "# Your answer goes here\n",
    "print(\"Your account balance after 5 years would be:$\",balance,sep='')"
   ]
  },
  {
   "cell_type": "code",
   "execution_count": 57,
   "metadata": {},
   "outputs": [
    {
     "name": "stdout",
     "output_type": "stream",
     "text": [
      "Your account balance after 5 years would be:$1100.0\n"
     ]
    }
   ],
   "source": [
    "# Your answer goes here\n",
    "print(\"Your account balance after 5 years would be:$\",round(balance,2),sep='')"
   ]
  },
  {
   "cell_type": "markdown",
   "metadata": {},
   "source": [
    "# Exercise 2 (10 points)\n",
    "The value of pi is given below in a string/character format:"
   ]
  },
  {
   "cell_type": "code",
   "execution_count": 58,
   "metadata": {},
   "outputs": [
    {
     "data": {
      "text/plain": [
       "str"
      ]
     },
     "execution_count": 58,
     "metadata": {},
     "output_type": "execute_result"
    }
   ],
   "source": [
    "pi_char = \"3.1415926535\"\n",
    "type(pi_char)"
   ]
  },
  {
   "cell_type": "markdown",
   "metadata": {},
   "source": [
    "Google and find a function that would convert it to float so we can use it in math equations, call this new converted value `pi`"
   ]
  },
  {
   "cell_type": "code",
   "execution_count": 59,
   "metadata": {},
   "outputs": [
    {
     "data": {
      "text/plain": [
       "float"
      ]
     },
     "execution_count": 59,
     "metadata": {},
     "output_type": "execute_result"
    }
   ],
   "source": [
    "# Your answer goes here\n",
    "pi=float(pi_char)\n",
    "type(pi)"
   ]
  },
  {
   "cell_type": "markdown",
   "metadata": {},
   "source": [
    "Read more about type casting"
   ]
  },
  {
   "cell_type": "markdown",
   "metadata": {},
   "source": []
  },
  {
   "cell_type": "markdown",
   "metadata": {},
   "source": [
    "Using this variable calculate the area of a circle with radius `r = 2` and print a rounded value for area (up to 3 decimals):"
   ]
  },
  {
   "cell_type": "code",
   "execution_count": 60,
   "metadata": {},
   "outputs": [
    {
     "name": "stdout",
     "output_type": "stream",
     "text": [
      "12.566\n"
     ]
    }
   ],
   "source": [
    "# Your answer goes here\n",
    "r=2\n",
    "area=pi*r*r\n",
    "print(round(area,3))"
   ]
  },
  {
   "cell_type": "markdown",
   "metadata": {},
   "source": [
    "# Exercise 3 (5 points)\n",
    "Print the quotient and remainder of 67432/98?"
   ]
  },
  {
   "cell_type": "code",
   "execution_count": 61,
   "metadata": {},
   "outputs": [
    {
     "name": "stdout",
     "output_type": "stream",
     "text": [
      "688\n",
      "8\n"
     ]
    }
   ],
   "source": [
    "# Your answer goes here\n",
    "print(67432//98)\n",
    "print(67432%98)"
   ]
  },
  {
   "cell_type": "markdown",
   "metadata": {},
   "source": [
    "# Exercise 4 (10 points)\n",
    "Write a statement to check whether `a` is a multiple of 5 and within the range of 100-150 or 0-50. Check your statement with the following values and it should give you the following values:\n",
    "\n",
    "55 --> False\n",
    "\n",
    "110 --> True\n",
    "\n",
    "-25 --> False\n",
    "\n",
    "150 --> False\n",
    "\n",
    "100 --> True"
   ]
  },
  {
   "cell_type": "code",
   "execution_count": 62,
   "metadata": {},
   "outputs": [
    {
     "name": "stdout",
     "output_type": "stream",
     "text": [
      "False\n"
     ]
    }
   ],
   "source": [
    "# Your answer goes here\n",
    "a=int(input())\n",
    "if (0<=a<50 or 100<=a<150) and a%5==0:\n",
    "    print(\"True\")\n",
    "else:print(\"False\")"
   ]
  },
  {
   "cell_type": "markdown",
   "metadata": {},
   "source": [
    "Find out how to take input from user in Python before proceeding forward."
   ]
  },
  {
   "cell_type": "markdown",
   "metadata": {},
   "source": [
    "##  Min Max (20 points)\n",
    "Take input of age of 3 people **by user** and determine oldest and youngest among them. Your program:\n",
    "- Takes 3 numbers as input from the user\n",
    "- Finds minimum and maximum of the 3 numbers and prints it using if else\n"
   ]
  },
  {
   "cell_type": "code",
   "execution_count": 63,
   "metadata": {},
   "outputs": [
    {
     "name": "stdout",
     "output_type": "stream",
     "text": [
      "24\n",
      "34\n"
     ]
    }
   ],
   "source": [
    "# Your answer goes here\n",
    "a=int(input())\n",
    "b=int(input())\n",
    "c=int(input())\n",
    "if a>=b and a>=c:\n",
    "    max=a\n",
    "    if(b<c):\n",
    "        min=b\n",
    "    else:min=c\n",
    "elif b>=a and b>=c:\n",
    "    max=b\n",
    "    if(a<c):\n",
    "        min=a\n",
    "    else:min=c\n",
    "else:\n",
    "    max=c\n",
    "    if(a<b):\n",
    "        min=a\n",
    "    else:min=b\n",
    "print(min)\n",
    "print(max)\n"
   ]
  },
  {
   "cell_type": "markdown",
   "metadata": {},
   "source": [
    "## Right angles triangle (20 points)\n",
    "Pythagoras theorem states that “In a right-angled triangle, the square of the hypotenuse side is equal to the sum of squares of the other two sides“. The sides of this triangle have been named as `Perpendicular: a`, `Base: b` and `Hypotenuse: c`.\n",
    "\n",
    "- Write a program that takes three parameters - ```a, b``` and ```c```and checks if triangle is right-angled triangle or not. \n",
    "$$\n",
    "a^2 + b^2 = c^2\n",
    "$$ \n",
    "The program should print, **Not a Right angled triangle!** if the above equation does not satisfy. Otherwise the program should print, **Right angled triangle!**"
   ]
  },
  {
   "cell_type": "code",
   "execution_count": 48,
   "metadata": {},
   "outputs": [
    {
     "name": "stdout",
     "output_type": "stream",
     "text": [
      "Right angled triangle!\n"
     ]
    }
   ],
   "source": [
    "# Your answer goes here\n",
    "a=int(input())\n",
    "b=int(input())\n",
    "c=int(input())\n",
    "if a*a+b*b!=c*c:\n",
    "    print(\"Not a Right angled triangle!\")\n",
    "else:print(\"Right angled triangle!\")\n",
    "\n"
   ]
  },
  {
   "cell_type": "markdown",
   "metadata": {},
   "source": [
    "## Basic Calculator (25 points)\n",
    "\n",
    "Write a program that takes three arguments - ```op1, op2``` and ```operator``` and prints the result ```op1 operator op2```. <br>\n",
    "\n",
    "Eg. 1, for ```op1 = 1```, ```op2 = 2``` and ```operator = '+' ```, the program prints ```3``` as the result (```1 + 2```). <br>\n",
    "\n",
    "Eg. 2, for ```op1 = 2```, ```op2 = 3``` and ```operator = '**' ```, the program prints ```8``` as the result (```2 ** 3```). <br>\n",
    "\n",
    "\n",
    "Assume that the operator can be one of the following : ```+, -, *, /, %, **``` <br>\n",
    "\n",
    "Write a program that takes **3 inputs from the user** - ```op1, op2``` and ```operator``` and prints the result."
   ]
  },
  {
   "cell_type": "code",
   "execution_count": 51,
   "metadata": {},
   "outputs": [
    {
     "name": "stdout",
     "output_type": "stream",
     "text": [
      "1.6666666666666667\n"
     ]
    }
   ],
   "source": [
    "# Your answer goes here\n",
    "op1=int(input('op1='))\n",
    "op2=int(input('op2='))\n",
    "operator=input()\n",
    "if operator=='+':\n",
    "    print(op1+op2)\n",
    "elif operator == '-' :\n",
    "    print(op1-op2)\n",
    "elif operator == '*' :\n",
    "    print(op1*op2)\n",
    "elif operator == '/':\n",
    "    print(op1/op2)\n",
    "elif operator == '%' :\n",
    "    print(op1%op2)\n",
    "elif operator == '**' :\n",
    "    print(op1**op2)\n",
    "\n",
    "\n"
   ]
  }
 ],
 "metadata": {
  "kernelspec": {
   "display_name": "Python 3",
   "language": "python",
   "name": "python3"
  },
  "language_info": {
   "codemirror_mode": {
    "name": "ipython",
    "version": 3
   },
   "file_extension": ".py",
   "mimetype": "text/x-python",
   "name": "python",
   "nbconvert_exporter": "python",
   "pygments_lexer": "ipython3",
   "version": "3.11.4"
  }
 },
 "nbformat": 4,
 "nbformat_minor": 2
}
